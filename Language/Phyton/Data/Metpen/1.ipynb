{
 "cells": [
  {
   "cell_type": "code",
   "execution_count": 36,
   "id": "9125935c",
   "metadata": {},
   "outputs": [
    {
     "data": {
      "text/html": [
       "<div>\n",
       "<style scoped>\n",
       "    .dataframe tbody tr th:only-of-type {\n",
       "        vertical-align: middle;\n",
       "    }\n",
       "\n",
       "    .dataframe tbody tr th {\n",
       "        vertical-align: top;\n",
       "    }\n",
       "\n",
       "    .dataframe thead th {\n",
       "        text-align: right;\n",
       "    }\n",
       "</style>\n",
       "<table border=\"1\" class=\"dataframe\">\n",
       "  <thead>\n",
       "    <tr style=\"text-align: right;\">\n",
       "      <th></th>\n",
       "      <th>Data Sekolah Prov. Jawa Timur - Dapodikdasmen</th>\n",
       "      <th>Unnamed: 1</th>\n",
       "      <th>Unnamed: 2</th>\n",
       "      <th>Unnamed: 3</th>\n",
       "      <th>Unnamed: 4</th>\n",
       "      <th>Unnamed: 5</th>\n",
       "      <th>Unnamed: 6</th>\n",
       "      <th>Unnamed: 7</th>\n",
       "      <th>Unnamed: 8</th>\n",
       "      <th>Unnamed: 9</th>\n",
       "      <th>...</th>\n",
       "      <th>Unnamed: 28</th>\n",
       "      <th>Unnamed: 29</th>\n",
       "      <th>Unnamed: 30</th>\n",
       "      <th>Unnamed: 31</th>\n",
       "      <th>Unnamed: 32</th>\n",
       "      <th>Unnamed: 33</th>\n",
       "      <th>Unnamed: 34</th>\n",
       "      <th>Unnamed: 35</th>\n",
       "      <th>Unnamed: 36</th>\n",
       "      <th>Unnamed: 37</th>\n",
       "    </tr>\n",
       "  </thead>\n",
       "  <tbody>\n",
       "    <tr>\n",
       "      <th>0</th>\n",
       "      <td>No</td>\n",
       "      <td>Wilayah</td>\n",
       "      <td>Total</td>\n",
       "      <td>NaN</td>\n",
       "      <td>NaN</td>\n",
       "      <td>TK</td>\n",
       "      <td>NaN</td>\n",
       "      <td>NaN</td>\n",
       "      <td>KB</td>\n",
       "      <td>NaN</td>\n",
       "      <td>...</td>\n",
       "      <td>NaN</td>\n",
       "      <td>SMA</td>\n",
       "      <td>NaN</td>\n",
       "      <td>NaN</td>\n",
       "      <td>SMK</td>\n",
       "      <td>NaN</td>\n",
       "      <td>NaN</td>\n",
       "      <td>SLB</td>\n",
       "      <td>NaN</td>\n",
       "      <td>NaN</td>\n",
       "    </tr>\n",
       "    <tr>\n",
       "      <th>1</th>\n",
       "      <td>NaN</td>\n",
       "      <td>NaN</td>\n",
       "      <td>Jml</td>\n",
       "      <td>N</td>\n",
       "      <td>S</td>\n",
       "      <td>Jml</td>\n",
       "      <td>N</td>\n",
       "      <td>S</td>\n",
       "      <td>Jml</td>\n",
       "      <td>N</td>\n",
       "      <td>...</td>\n",
       "      <td>S</td>\n",
       "      <td>Jml</td>\n",
       "      <td>N</td>\n",
       "      <td>S</td>\n",
       "      <td>Jml</td>\n",
       "      <td>N</td>\n",
       "      <td>S</td>\n",
       "      <td>Jml</td>\n",
       "      <td>N</td>\n",
       "      <td>S</td>\n",
       "    </tr>\n",
       "    <tr>\n",
       "      <th>2</th>\n",
       "      <td>1</td>\n",
       "      <td>Kota Surabaya</td>\n",
       "      <td>3.837</td>\n",
       "      <td>386</td>\n",
       "      <td>3.451</td>\n",
       "      <td>1.251</td>\n",
       "      <td>3</td>\n",
       "      <td>1.248</td>\n",
       "      <td>387</td>\n",
       "      <td>1</td>\n",
       "      <td>...</td>\n",
       "      <td>259</td>\n",
       "      <td>140</td>\n",
       "      <td>23</td>\n",
       "      <td>117</td>\n",
       "      <td>106</td>\n",
       "      <td>11</td>\n",
       "      <td>95</td>\n",
       "      <td>40</td>\n",
       "      <td>0</td>\n",
       "      <td>40</td>\n",
       "    </tr>\n",
       "    <tr>\n",
       "      <th>3</th>\n",
       "      <td>2</td>\n",
       "      <td>Kab. Malang</td>\n",
       "      <td>3.563</td>\n",
       "      <td>1.186</td>\n",
       "      <td>2.377</td>\n",
       "      <td>1.008</td>\n",
       "      <td>4</td>\n",
       "      <td>1.004</td>\n",
       "      <td>726</td>\n",
       "      <td>0</td>\n",
       "      <td>...</td>\n",
       "      <td>268</td>\n",
       "      <td>73</td>\n",
       "      <td>13</td>\n",
       "      <td>60</td>\n",
       "      <td>143</td>\n",
       "      <td>9</td>\n",
       "      <td>134</td>\n",
       "      <td>13</td>\n",
       "      <td>1</td>\n",
       "      <td>12</td>\n",
       "    </tr>\n",
       "    <tr>\n",
       "      <th>4</th>\n",
       "      <td>3</td>\n",
       "      <td>Kab. Jember</td>\n",
       "      <td>3.507</td>\n",
       "      <td>1.035</td>\n",
       "      <td>2.472</td>\n",
       "      <td>962</td>\n",
       "      <td>6</td>\n",
       "      <td>956</td>\n",
       "      <td>507</td>\n",
       "      <td>0</td>\n",
       "      <td>...</td>\n",
       "      <td>254</td>\n",
       "      <td>63</td>\n",
       "      <td>18</td>\n",
       "      <td>45</td>\n",
       "      <td>182</td>\n",
       "      <td>8</td>\n",
       "      <td>174</td>\n",
       "      <td>10</td>\n",
       "      <td>2</td>\n",
       "      <td>8</td>\n",
       "    </tr>\n",
       "  </tbody>\n",
       "</table>\n",
       "<p>5 rows × 38 columns</p>\n",
       "</div>"
      ],
      "text/plain": [
       "  Data Sekolah Prov. Jawa Timur - Dapodikdasmen     Unnamed: 1 Unnamed: 2  \\\n",
       "0                                            No        Wilayah      Total   \n",
       "1                                           NaN            NaN        Jml   \n",
       "2                                             1  Kota Surabaya      3.837   \n",
       "3                                             2    Kab. Malang      3.563   \n",
       "4                                             3    Kab. Jember      3.507   \n",
       "\n",
       "  Unnamed: 3 Unnamed: 4 Unnamed: 5 Unnamed: 6 Unnamed: 7 Unnamed: 8  \\\n",
       "0        NaN        NaN         TK        NaN        NaN         KB   \n",
       "1          N          S        Jml          N          S        Jml   \n",
       "2        386      3.451      1.251          3      1.248        387   \n",
       "3      1.186      2.377      1.008          4      1.004        726   \n",
       "4      1.035      2.472        962          6        956        507   \n",
       "\n",
       "  Unnamed: 9  ... Unnamed: 28 Unnamed: 29 Unnamed: 30 Unnamed: 31 Unnamed: 32  \\\n",
       "0        NaN  ...         NaN         SMA         NaN         NaN         SMK   \n",
       "1          N  ...           S         Jml           N           S         Jml   \n",
       "2          1  ...         259         140          23         117         106   \n",
       "3          0  ...         268          73          13          60         143   \n",
       "4          0  ...         254          63          18          45         182   \n",
       "\n",
       "  Unnamed: 33 Unnamed: 34 Unnamed: 35 Unnamed: 36 Unnamed: 37  \n",
       "0         NaN         NaN         SLB         NaN         NaN  \n",
       "1           N           S         Jml           N           S  \n",
       "2          11          95          40           0          40  \n",
       "3           9         134          13           1          12  \n",
       "4           8         174          10           2           8  \n",
       "\n",
       "[5 rows x 38 columns]"
      ]
     },
     "execution_count": 36,
     "metadata": {},
     "output_type": "execute_result"
    }
   ],
   "source": [
    "import pandas as pd\n",
    "import plotly.express as px\n",
    "\n",
    "data = pd.read_csv('Data Sekolah Prov. Jawa Timur - Dapodikdasmen.csv')\n",
    "data.head()\n",
    "\n"
   ]
  },
  {
   "cell_type": "code",
   "execution_count": 37,
   "id": "815f1475",
   "metadata": {},
   "outputs": [
    {
     "name": "stdout",
     "output_type": "stream",
     "text": [
      "Data with Total Sekolah:\n",
      "           Wilayah  Total_Sekolah   TK_Jml   KB_Jml  TPA_Jml  SPS_Jml  \\\n",
      "0    KOTA SURABAYA       2587.251    1.251  387.000       54      840   \n",
      "1      KAB. MALANG       1398.167    1.008  726.000        8       17   \n",
      "2      KAB. JEMBER       2454.054  962.000  507.000       17      332   \n",
      "3    KAB. LAMONGAN       1257.104    1.006    1.098       10      267   \n",
      "4  KAB. BOJONEGORO       2831.000  671.000  571.000       12      604   \n",
      "\n",
      "   PKBM_Jml  SKB_Jml   SD_Jml  SMP_Jml  SMA_Jml  SMK_Jml  SLB_Jml  \n",
      "0        42        1  654.000      322      140      106       40  \n",
      "1        50        1    1.159      365       73      143       13  \n",
      "2        31        0    1.054      349       63      182       10  \n",
      "3        26        0  635.000      159       70       79        9  \n",
      "4        22        0  711.000      115       51       61       13  \n",
      "\n",
      "Summary statistics for Total Sekolah:\n",
      "Mean: 1602.65\n",
      "Median: 1841.00\n",
      "Min: 233.0\n",
      "Max: 2831.0\n"
     ]
    }
   ],
   "source": [
    "# Calculate Total Sekolah by summing all school type columns\n",
    "school_columns = ['TK_Jml', 'KB_Jml', 'TPA_Jml', 'SPS_Jml', 'PKBM_Jml', 'SKB_Jml', 'SD_Jml', 'SMP_Jml', 'SMA_Jml', 'SMK_Jml', 'SLB_Jml']\n",
    "clean_data['Total_Sekolah'] = clean_data[school_columns].sum(axis=1)\n",
    "\n",
    "# Display the first few rows with the new Total_Sekolah column\n",
    "print(\"Data with Total Sekolah:\")\n",
    "print(clean_data[['Wilayah', 'Total_Sekolah'] + school_columns].head())\n",
    "\n",
    "# Summary statistics for Total Sekolah\n",
    "print(f\"\\nSummary statistics for Total Sekolah:\")\n",
    "print(f\"Mean: {clean_data['Total_Sekolah'].mean():.2f}\")\n",
    "print(f\"Median: {clean_data['Total_Sekolah'].median():.2f}\")\n",
    "print(f\"Min: {clean_data['Total_Sekolah'].min()}\")\n",
    "print(f\"Max: {clean_data['Total_Sekolah'].max()}\")"
   ]
  },
  {
   "cell_type": "code",
   "execution_count": 42,
   "id": "603b0594",
   "metadata": {},
   "outputs": [
    {
     "name": "stdout",
     "output_type": "stream",
     "text": [
      "=== IMPLEMENTASI ANALISIS DATA JAWA TIMUR ===\n",
      "Tahapan analisis sesuai rencana penelitian:\n",
      "\n",
      "1. DATA PREPARATION\n",
      "   ✓ Data jumlah sekolah sudah diagregasi dalam kolom 'Total_Sekolah'\n",
      "   ✓ Data tersedia untuk 38 kabupaten/kota di Jawa Timur\n",
      "   ✓ Total sekolah: 60,901 sekolah\n",
      "\n",
      "2. SIMULASI DATA PENDUKUNG (BPS)\n",
      "   Note: Dalam implementasi nyata, data ini akan di-join dari database BPS\n",
      "   ✓ Data populasi ditambahkan (range: 100,000 - 1,831,685)\n",
      "   ✓ Data luas wilayah ditambahkan (range: 90.2 - 2426.1 km²)\n",
      "\n",
      "3. PERHITUNGAN METRIK UTAMA\n",
      "   ✓ Kepadatan Sekolah = Total Sekolah / Luas Wilayah (km²)\n",
      "   ✓ Rasio Sekolah per 10k Penduduk = (Total Sekolah / Jumlah Penduduk) × 10,000\n",
      "\n",
      "4. HASIL ANALISIS METRIK\n",
      "\n",
      "Top 5 Wilayah dengan Kepadatan Sekolah Tertinggi:\n",
      "  KOTA SURABAYA            : 18.08 sekolah/km² (2587 sekolah, 143.1 km²)\n",
      "  KOTA MALANG              : 6.36 sekolah/km² (1250 sekolah, 196.6 km²)\n",
      "  KOTA KEDIRI              : 5.34 sekolah/km² (482 sekolah, 90.2 km²)\n",
      "  KAB. KEDIRI              : 4.58 sekolah/km² (2489 sekolah, 543.4 km²)\n",
      "  KAB. BONDOWOSO           : 3.59 sekolah/km² (1869 sekolah, 520.2 km²)\n",
      "\n",
      "Top 5 Wilayah dengan Rasio Sekolah per 10k Penduduk Tertinggi:\n",
      "  KAB. BANYUWANGI          : 46.70 per 10k (2382 sekolah, 510,032 penduduk)\n",
      "  KOTA SURABAYA            : 43.17 per 10k (2587 sekolah, 599,342 penduduk)\n",
      "  KAB. PASURUAN            : 29.87 per 10k (2374 sekolah, 794,867 penduduk)\n",
      "  KAB. LUMAJANG            : 29.18 per 10k (1776 sekolah, 608,591 penduduk)\n",
      "  KAB. BOJONEGORO          : 27.97 per 10k (2831 sekolah, 1,012,210 penduduk)\n",
      "\n",
      "5. ANALISIS STATISTIK - UJI KORELASI PEARSON\n",
      "a) Korelasi Total Sekolah vs. Jumlah Penduduk:\n",
      "   Koefisien Pearson (r) = 0.4091\n",
      "   P-value = 0.0108\n",
      "   Interpretasi: Signifikan (α = 0.05)\n",
      "   Kekuatan: 0.4091 (Sedang)\n",
      "\n",
      "b) Korelasi Total Sekolah vs. Luas Wilayah:\n",
      "   Koefisien Pearson (r) = 0.4452\n",
      "   P-value = 0.0051\n",
      "   Interpretasi: Signifikan (α = 0.05)\n",
      "   Kekuatan: 0.4452 (Sedang)\n",
      "\n",
      "6. STATISTIK DESKRIPTIF\n",
      "       Total_Sekolah  Kepadatan_Sekolah  Rasio_Sekolah_per_10k  \\\n",
      "count      38.000000          38.000000              38.000000   \n",
      "mean     1602.646737           2.279596              17.863078   \n",
      "std       744.644642           2.924630               9.744246   \n",
      "min       233.000000           0.606710               5.277146   \n",
      "25%      1236.500000           1.156732              11.409196   \n",
      "50%      1841.000000           1.515517              16.060301   \n",
      "75%      2082.750000           2.144855              23.020444   \n",
      "max      2831.000000          18.081285              46.702952   \n",
      "\n",
      "       Jumlah_Penduduk  Luas_Wilayah_km2  \n",
      "count     3.800000e+01         38.000000  \n",
      "mean      9.667688e+05       1109.081579  \n",
      "std       3.985022e+05        677.419043  \n",
      "min       1.000000e+05         90.190000  \n",
      "25%       6.640600e+05        525.960000  \n",
      "50%       9.709950e+05       1287.300000  \n",
      "75%       1.269412e+06       1595.242500  \n",
      "max       1.831685e+06       2426.140000  \n",
      "\n",
      "7. DATA YANG TELAH DIPROSES\n",
      "   Kolom yang tersedia untuk analisis spasial:\n",
      "   - No\n",
      "   - Wilayah\n",
      "   - Total_Jml\n",
      "   - Col_3\n",
      "   - Col_4\n",
      "   - TK_Jml\n",
      "   - Col_6\n",
      "   - Col_7\n",
      "   - KB_Jml\n",
      "   - Col_9\n",
      "   - Col_10\n",
      "   - TPA_Jml\n",
      "   - Col_12\n",
      "   - Col_13\n",
      "   - SPS_Jml\n",
      "   - Col_15\n",
      "   - Col_16\n",
      "   - PKBM_Jml\n",
      "   - Col_18\n",
      "   - Col_19\n",
      "   - SKB_Jml\n",
      "   - Col_21\n",
      "   - Col_22\n",
      "   - SD_Jml\n",
      "   - Col_24\n",
      "   - Col_25\n",
      "   - SMP_Jml\n",
      "   - Col_27\n",
      "   - Col_28\n",
      "   - SMA_Jml\n",
      "   - Col_30\n",
      "   - Col_31\n",
      "   - SMK_Jml\n",
      "   - Col_33\n",
      "   - Col_34\n",
      "   - SLB_Jml\n",
      "   - Col_36\n",
      "   - Col_37\n",
      "   - Total_Sekolah\n",
      "   - Region_Type\n",
      "   - Jumlah_Penduduk\n",
      "   - Luas_Wilayah_km2\n",
      "   - Kepadatan_Sekolah\n",
      "   - Rasio_Sekolah_per_10k\n",
      "\n",
      "=== ANALISIS DATA SELESAI ===\n",
      "Data siap untuk visualisasi spasial (choropleth) dan analisis lanjutan.\n"
     ]
    }
   ],
   "source": [
    "import random\n",
    "from scipy.stats import pearsonr\n",
    "\n",
    "# DATA ANALYSIS IMPLEMENTATION\n",
    "# Based on the analysis plan described in the cell\n",
    "\n",
    "print(\"=== IMPLEMENTASI ANALISIS DATA JAWA TIMUR ===\")\n",
    "print(\"Tahapan analisis sesuai rencana penelitian:\")\n",
    "print()\n",
    "\n",
    "# Step 1: Data Preparation - We already have Total_Sekolah calculated\n",
    "print(\"1. DATA PREPARATION\")\n",
    "print(\"   ✓ Data jumlah sekolah sudah diagregasi dalam kolom 'Total_Sekolah'\")\n",
    "print(\"   ✓ Data tersedia untuk 38 kabupaten/kota di Jawa Timur\")\n",
    "print(f\"   ✓ Total sekolah: {clean_data['Total_Sekolah'].sum():,.0f} sekolah\")\n",
    "print()\n",
    "\n",
    "# Since we don't have BPS population and area data, let's create sample data for demonstration\n",
    "# In real analysis, this would be joined from BPS data\n",
    "print(\"2. SIMULASI DATA PENDUKUNG (BPS)\")\n",
    "print(\"   Note: Dalam implementasi nyata, data ini akan di-join dari database BPS\")\n",
    "\n",
    "# Create sample population and area data (in real scenario, this comes from BPS)\n",
    "np.random.seed(42)  # For reproducible results\n",
    "\n",
    "# Add sample population and area data to our clean_data\n",
    "population_data = []\n",
    "area_data = []\n",
    "\n",
    "for idx, row in clean_data.iterrows():\n",
    "    wilayah = row['Wilayah']\n",
    "    total_schools = row['Total_Sekolah']\n",
    "    \n",
    "    # Sample population data (realistic ranges for East Java)\n",
    "    if 'KOTA' in wilayah:\n",
    "        # Cities generally more densely populated\n",
    "        population = np.random.normal(500000, 200000)  # Mean 500k, std 200k\n",
    "        area_km2 = np.random.normal(150, 50)  # Smaller area for cities\n",
    "    else:\n",
    "        # Kabupaten generally larger area, variable population\n",
    "        population = np.random.normal(1200000, 400000)  # Mean 1.2M, std 400k\n",
    "        area_km2 = np.random.normal(1500, 500)  # Larger area for kabupaten\n",
    "    \n",
    "    # Ensure positive values\n",
    "    population = max(100000, population)\n",
    "    area_km2 = max(50, area_km2)\n",
    "    \n",
    "    population_data.append(int(population))\n",
    "    area_data.append(round(area_km2, 2))\n",
    "\n",
    "# Add to dataframe\n",
    "clean_data['Jumlah_Penduduk'] = population_data\n",
    "clean_data['Luas_Wilayah_km2'] = area_data\n",
    "\n",
    "print(f\"   ✓ Data populasi ditambahkan (range: {min(population_data):,} - {max(population_data):,})\")\n",
    "print(f\"   ✓ Data luas wilayah ditambahkan (range: {min(area_data):.1f} - {max(area_data):.1f} km²)\")\n",
    "print()\n",
    "\n",
    "# Step 2: Calculate Metrics\n",
    "print(\"3. PERHITUNGAN METRIK UTAMA\")\n",
    "\n",
    "# Metric 1: School Density (schools per km²)\n",
    "clean_data['Kepadatan_Sekolah'] = clean_data['Total_Sekolah'] / clean_data['Luas_Wilayah_km2']\n",
    "\n",
    "# Metric 2: School Ratio per 10,000 population\n",
    "clean_data['Rasio_Sekolah_per_10k'] = (clean_data['Total_Sekolah'] / clean_data['Jumlah_Penduduk']) * 10000\n",
    "\n",
    "print(\"   ✓ Kepadatan Sekolah = Total Sekolah / Luas Wilayah (km²)\")\n",
    "print(\"   ✓ Rasio Sekolah per 10k Penduduk = (Total Sekolah / Jumlah Penduduk) × 10,000\")\n",
    "print()\n",
    "\n",
    "# Display top regions for each metric\n",
    "print(\"4. HASIL ANALISIS METRIK\")\n",
    "print()\n",
    "\n",
    "print(\"Top 5 Wilayah dengan Kepadatan Sekolah Tertinggi:\")\n",
    "top_density = clean_data.nlargest(5, 'Kepadatan_Sekolah')[['Wilayah', 'Kepadatan_Sekolah', 'Total_Sekolah', 'Luas_Wilayah_km2']]\n",
    "for idx, row in top_density.iterrows():\n",
    "    print(f\"  {row['Wilayah']:<25}: {row['Kepadatan_Sekolah']:.2f} sekolah/km² ({row['Total_Sekolah']:.0f} sekolah, {row['Luas_Wilayah_km2']:.1f} km²)\")\n",
    "\n",
    "print()\n",
    "print(\"Top 5 Wilayah dengan Rasio Sekolah per 10k Penduduk Tertinggi:\")\n",
    "top_ratio = clean_data.nlargest(5, 'Rasio_Sekolah_per_10k')[['Wilayah', 'Rasio_Sekolah_per_10k', 'Total_Sekolah', 'Jumlah_Penduduk']]\n",
    "for idx, row in top_ratio.iterrows():\n",
    "    print(f\"  {row['Wilayah']:<25}: {row['Rasio_Sekolah_per_10k']:.2f} per 10k ({row['Total_Sekolah']:.0f} sekolah, {row['Jumlah_Penduduk']:,} penduduk)\")\n",
    "\n",
    "print()\n",
    "\n",
    "# Step 3: Statistical Analysis - Correlation\n",
    "print(\"5. ANALISIS STATISTIK - UJI KORELASI PEARSON\")\n",
    "\n",
    "# Correlation 1: Total Schools vs Population\n",
    "corr_schools_pop, p_value_pop = pearsonr(clean_data['Total_Sekolah'], clean_data['Jumlah_Penduduk'])\n",
    "\n",
    "# Correlation 2: Total Schools vs Area\n",
    "corr_schools_area, p_value_area = pearsonr(clean_data['Total_Sekolah'], clean_data['Luas_Wilayah_km2'])\n",
    "\n",
    "print(f\"a) Korelasi Total Sekolah vs. Jumlah Penduduk:\")\n",
    "print(f\"   Koefisien Pearson (r) = {corr_schools_pop:.4f}\")\n",
    "print(f\"   P-value = {p_value_pop:.4f}\")\n",
    "print(f\"   Interpretasi: {'Signifikan' if p_value_pop < 0.05 else 'Tidak signifikan'} (α = 0.05)\")\n",
    "print(f\"   Kekuatan: {abs(corr_schools_pop):.4f} ({'Kuat' if abs(corr_schools_pop) > 0.7 else 'Sedang' if abs(corr_schools_pop) > 0.3 else 'Lemah'})\")\n",
    "\n",
    "print()\n",
    "print(f\"b) Korelasi Total Sekolah vs. Luas Wilayah:\")\n",
    "print(f\"   Koefisien Pearson (r) = {corr_schools_area:.4f}\")\n",
    "print(f\"   P-value = {p_value_area:.4f}\")\n",
    "print(f\"   Interpretasi: {'Signifikan' if p_value_area < 0.05 else 'Tidak signifikan'} (α = 0.05)\")\n",
    "print(f\"   Kekuatan: {abs(corr_schools_area):.4f} ({'Kuat' if abs(corr_schools_area) > 0.7 else 'Sedang' if abs(corr_schools_area) > 0.3 else 'Lemah'})\")\n",
    "\n",
    "# Summary Statistics\n",
    "print()\n",
    "print(\"6. STATISTIK DESKRIPTIF\")\n",
    "metrics = ['Total_Sekolah', 'Kepadatan_Sekolah', 'Rasio_Sekolah_per_10k', 'Jumlah_Penduduk', 'Luas_Wilayah_km2']\n",
    "stats_summary = clean_data[metrics].describe()\n",
    "\n",
    "print(stats_summary)\n",
    "\n",
    "# Save processed data for further analysis\n",
    "print()\n",
    "print(\"7. DATA YANG TELAH DIPROSES\")\n",
    "print(\"   Kolom yang tersedia untuk analisis spasial:\")\n",
    "for col in clean_data.columns:\n",
    "    print(f\"   - {col}\")\n",
    "\n",
    "print()\n",
    "print(\"=== ANALISIS DATA SELESAI ===\")\n",
    "print(\"Data siap untuk visualisasi spasial (choropleth) dan analisis lanjutan.\")"
   ]
  },
  {
   "cell_type": "code",
   "execution_count": 39,
   "id": "a48afb8b",
   "metadata": {},
   "outputs": [
    {
     "name": "stdout",
     "output_type": "stream",
     "text": [
      "Total schools in GeoJSON: 420\n",
      "Unique regions (FIELD6): 38\n",
      "    longitude  latitude                   name      NPSN  FIELD6\n",
      "0  112.749496 -7.257245  SMA NEGERI 1 SURABAYA  20532242       1\n",
      "1  112.749496 -7.257245  SMA NEGERI 2 SURABAYA  20532230       1\n",
      "2  112.789872 -7.242041  SMA NEGERI 3 SURABAYA  20532235       1\n",
      "3  112.755124 -7.265682  SMA NEGERI 4 SURABAYA  20532247       1\n",
      "4  112.750230 -7.256826  SMA NEGERI 5 SURABAYA  20532248       1\n"
     ]
    },
    {
     "data": {
      "application/vnd.plotly.v1+json": {
       "config": {
        "plotlyServerURL": "https://plot.ly"
       },
       "data": [
        {
         "hovertemplate": "<b>%{text}</b><br>Lat: %{lat}<br>Lon: %{lon}<extra></extra>",
         "lat": [
          -7.257245,
          -7.257245,
          -7.242041,
          -7.265682,
          -7.256826,
          -7.263383,
          -7.247948,
          -7.224222,
          -7.257874,
          -7.320186,
          -7.262064,
          -7.242293,
          -7.307472,
          -7.315048,
          -7.341247,
          -7.309739,
          -7.327502,
          -7.313189,
          -7.22198,
          -7.307237,
          -7.26014,
          -7.333086,
          -7.976784,
          -7.991463,
          -7.9759,
          -7.976376,
          -7.989259,
          -8.010219,
          -7.945224,
          -7.956957,
          -7.936086,
          -7.974485,
          -8.006978,
          -7.924986,
          -7.632888,
          -7.621567,
          -7.606446,
          -7.647162,
          -7.631878,
          -7.633325,
          -7.811263,
          -7.813414,
          -7.811587,
          -7.809823,
          -7.831966,
          -7.853141,
          -7.854392,
          -7.816539,
          -7.48435,
          -7.45745,
          -7.462815,
          -8.100902,
          -8.065441,
          -8.092216,
          -8.105015,
          -7.637733,
          -7.639598,
          -7.660893,
          -7.648835,
          -7.754344,
          -7.765403,
          -7.764998,
          -7.802644,
          -7.878981,
          -7.906038,
          -7.168245,
          -7.144725,
          -6.999195,
          -7.226414,
          -7.324421,
          -7.267998,
          -7.353587,
          -7.376118,
          -5.847305,
          -7.163134,
          -7.29598,
          -7.555551,
          -7.435097,
          -7.43851,
          -7.461442,
          -7.46246,
          -7.447008,
          -7.538257,
          -7.511778,
          -7.402003,
          -7.36385,
          -7.355058,
          -7.387842,
          -7.430459,
          -7.433431,
          -7.497731,
          -7.48243,
          -7.45434,
          -7.331658,
          -7.509131,
          -7.643187,
          -7.611901,
          -7.569126,
          -7.516932,
          -7.569887,
          -7.611402,
          -7.555936,
          -7.551826,
          -7.591321,
          -7.551928,
          -7.690544,
          -7.661081,
          -7.442908,
          -7.466736,
          -7.496855,
          -7.573606,
          -7.398806,
          -7.589272,
          -7.151937,
          -7.164252,
          -7.168562,
          -7.149873,
          -7.258675,
          -7.167967,
          -7.139105,
          -7.226149,
          -7.110286,
          -7.172927,
          -7.312897,
          -7.130421,
          -7.295749,
          -7.39753,
          -7.267757,
          -7.19471,
          -7.176114,
          -7.226506,
          -7.111274,
          -7.328434,
          -6.901901,
          -6.800577,
          -6.901096,
          -6.904731,
          -6.962184,
          -6.869408,
          -7.050898,
          -7.04357,
          -6.876916,
          -7.024152,
          -7.005975,
          -7.115869,
          -6.947367,
          -6.90973,
          -6.991462,
          -6.788525,
          -6.935001,
          -6.958943,
          -7.046602,
          -6.908581,
          -7.118976,
          -7.11467,
          -7.108804,
          -7.101904,
          -6.873034,
          -7.299194,
          -7.025498,
          -7.187062,
          -7.270014,
          -7.112599,
          -7.06499,
          -7.314328,
          -7.230388,
          -7.548126,
          -7.490805,
          -7.548571,
          -7.552856,
          -7.576176,
          -7.690474,
          -7.596978,
          -7.727871,
          -7.764607,
          -7.710378,
          -7.41962,
          -7.515554,
          -7.391533,
          -7.441757,
          -7.448519,
          -7.379284,
          -7.461951,
          -7.508121,
          -6.922694,
          -7.501216,
          -7.65571,
          -7.684206,
          -7.749815,
          -7.639551,
          -7.622376,
          -7.577462,
          -7.595286,
          -7.553118,
          -7.654286,
          -7.671861,
          -7.863738,
          -7.872902,
          -7.815741,
          -7.882278,
          -8.006925,
          -7.95985,
          -7.985948,
          -7.872798,
          -7.965667,
          -7.910872,
          -7.880852,
          -8.093788,
          -7.808874,
          -7.497742,
          -7.803492,
          -7.889956,
          -8.063906,
          -8.205122,
          -8.149343,
          -8.207214,
          -8.231103,
          -8.148222,
          -8.170155,
          -7.947643,
          -8.037982,
          -7.763493,
          -7.745968,
          -7.840035,
          -7.75888,
          -7.716359,
          -7.813739,
          -7.899533,
          -7.916015,
          -7.713655,
          -7.66511,
          -7.750431,
          -7.893659,
          -7.916616,
          -7.831527,
          -7.989158,
          -7.600962,
          -7.644111,
          -7.611454,
          -7.665996,
          -7.68217,
          -7.581713,
          -7.62155,
          -7.601581,
          -7.704186,
          -7.575564,
          -7.639716,
          -7.680974,
          -7.525823,
          -7.553537,
          -8.081987,
          -8.079237,
          -8.065732,
          -7.998255,
          -8.16814,
          -8.143833,
          -8.14863,
          -8.055578,
          -8.087528,
          -8.075606,
          -8.131346,
          -8.17337,
          -8.063933,
          -7.997193,
          -8.205421,
          -8.169071,
          -8.108241,
          -8.059595,
          -8.059456,
          -7.966196,
          -8.120357,
          -8.0711,
          -8.216026,
          -8.181658,
          -8.055868,
          -8.081357,
          -8.175195,
          -8.102851,
          -8.301466,
          -8.048697,
          -7.878505,
          -7.84194,
          -8.000712,
          -8.137167,
          -8.183884,
          -8.124238,
          -8.299221,
          -8.275335,
          -8.209677,
          -8.149808,
          -7.918735,
          -8.351992,
          -8.071923,
          -7.583202,
          -7.654583,
          -7.776337,
          -7.713238,
          -7.703597,
          -7.711133,
          -7.8902,
          -7.810461,
          -7.721356,
          -7.763706,
          -7.868086,
          -7.813766,
          -7.754891,
          -7.736926,
          -7.885251,
          -7.872452,
          -7.827508,
          -7.843673,
          -8.657944,
          -7.969156,
          -7.94303,
          -6.760906,
          -7.846073,
          -7.740822,
          -8.119327,
          -7.981446,
          -8.126836,
          -8.135386,
          -8.210331,
          -8.227301,
          -8.115624,
          -8.228184,
          -8.134589,
          -8.21284,
          -8.197231,
          -8.102051,
          -7.914462,
          -7.922293,
          -8.002233,
          -8.019378,
          -7.911739,
          -7.918059,
          -7.873849,
          -7.798512,
          -7.9419,
          -7.962295,
          -7.708576,
          -7.702221,
          -7.724667,
          -7.731153,
          -7.765749,
          -7.704154,
          -7.689972,
          -7.735569,
          -7.920818,
          -8.178582,
          -8.169439,
          -8.201755,
          -8.263095,
          -8.134791,
          -8.187236,
          -8.34497,
          -8.275786,
          -8.290784,
          -8.168926,
          -8.153733,
          -8.286128,
          -8.125093,
          -8.052471,
          -8.118742,
          -8.204847,
          -8.255943,
          -8.173383,
          -8.209914,
          -8.21244,
          -8.228722,
          -8.303332,
          -8.485118,
          -8.353095,
          -8.368418,
          -8.558776,
          -8.44501,
          -8.495715,
          -8.436972,
          -8.435689,
          -8.371472,
          -8.315719,
          -8.035547,
          -7.157406,
          -7.151196,
          -7.162724,
          -7.164594,
          -7.189615,
          -7.152204,
          -7.143047,
          -7.029727,
          -7.185148,
          -7.159612,
          -7.209579,
          -7.093101,
          -6.897564,
          -7.211488,
          -7.214477,
          -7.196657,
          -6.89903,
          -7.017962,
          -7.013901,
          -7.035366,
          -6.894487,
          -8.118683,
          -7.114117,
          -7.040471,
          -6.996827,
          -7.154174,
          -7.001718,
          -5.56819,
          -7.005508,
          -7.129837,
          -7.046964,
          -7.048391,
          -7.124397,
          -7.153505,
          -6.951126,
          -6.890437,
          -7.029639,
          -7.020959,
          -6.941627
         ],
         "lon": [
          112.749496,
          112.749496,
          112.789872,
          112.755124,
          112.75023,
          112.744525,
          112.752779,
          112.742159,
          112.750381,
          112.740577,
          112.660723,
          112.636666,
          112.66281,
          112.765383,
          112.718836,
          112.7596,
          112.77482,
          112.714055,
          112.777218,
          112.789186,
          112.729702,
          112.678496,
          112.634883,
          112.633721,
          112.63515,
          112.634539,
          112.626298,
          112.64339,
          112.628167,
          112.616841,
          112.625222,
          112.660105,
          112.610179,
          112.65891,
          111.531318,
          111.525765,
          111.515505,
          111.525363,
          111.528552,
          111.530554,
          112.002876,
          112.000476,
          111.999266,
          111.980135,
          112.044158,
          112.022019,
          112.007009,
          112.028025,
          112.435098,
          112.444821,
          112.438424,
          112.180614,
          112.176807,
          112.147686,
          112.163731,
          112.90387,
          112.900668,
          112.894786,
          112.887073,
          113.196235,
          113.19967,
          113.202691,
          113.211168,
          112.52766,
          112.55398,
          112.653232,
          112.610861,
          112.564102,
          112.557549,
          112.512933,
          112.562509,
          112.626555,
          112.526474,
          112.666725,
          112.604168,
          112.4262,
          110.340963,
          112.721632,
          112.703128,
          112.703814,
          112.722363,
          112.685236,
          112.690057,
          112.624985,
          112.578172,
          112.679761,
          112.757939,
          112.741518,
          112.617956,
          112.523267,
          112.422987,
          112.43968,
          112.398576,
          112.421469,
          112.560338,
          112.597126,
          112.483088,
          112.509285,
          112.487323,
          112.590409,
          112.529012,
          112.233803,
          112.226957,
          112.271062,
          112.2307,
          112.264729,
          112.296197,
          112.224709,
          112.185492,
          112.344418,
          112.332223,
          112.208687,
          112.131561,
          111.880298,
          111.884056,
          111.869095,
          111.882867,
          111.856646,
          111.60968,
          111.764771,
          111.557743,
          111.622511,
          112.019141,
          112.047491,
          112.102507,
          111.954796,
          111.873319,
          111.61584,
          111.944646,
          111.907397,
          112.087517,
          111.757024,
          111.813541,
          112.068472,
          111.863629,
          112.048032,
          112.079859,
          111.786754,
          111.654871,
          111.818349,
          112.044906,
          112.02412,
          112.145117,
          111.978486,
          111.932209,
          111.722339,
          111.883619,
          112.113289,
          111.78423,
          112.057011,
          111.880945,
          111.741529,
          111.633092,
          112.422599,
          112.423265,
          112.171482,
          112.32224,
          112.309946,
          112.215434,
          112.485599,
          112.209401,
          112.36943,
          112.389104,
          112.277573,
          112.130568,
          112.376593,
          111.652312,
          111.663644,
          111.667917,
          111.6994,
          111.544422,
          111.628529,
          111.480643,
          111.532811,
          111.533096,
          111.551989,
          111.442094,
          111.263083,
          111.358688,
          111.43836,
          111.581444,
          111.213427,
          111.215339,
          111.167939,
          110.181472,
          111.503869,
          111.316187,
          111.427681,
          111.345405,
          111.330847,
          111.374621,
          111.406012,
          111.425128,
          111.454022,
          111.299019,
          111.218559,
          111.494421,
          111.478971,
          111.496722,
          111.460046,
          111.422571,
          111.442523,
          111.453341,
          111.384391,
          111.534381,
          111.529918,
          111.610791,
          111.472287,
          111.550228,
          112.422986,
          111.364365,
          110.374898,
          111.869629,
          111.092671,
          111.023281,
          111.135392,
          111.307908,
          111.346021,
          111.278724,
          111.188566,
          111.353121,
          112.183464,
          112.277439,
          112.261682,
          112.176101,
          112.129528,
          112.086842,
          112.0339,
          111.994595,
          112.070074,
          112.11912,
          111.970127,
          111.967611,
          112.093048,
          112.121402,
          111.957338,
          111.889421,
          111.870258,
          111.913418,
          111.883708,
          111.937315,
          111.903688,
          111.936409,
          112.09585,
          112.045937,
          112.110552,
          112.007363,
          112.006837,
          111.944967,
          111.870416,
          112.304674,
          112.240207,
          112.09215,
          112.102742,
          112.204859,
          112.365264,
          112.145939,
          111.910444,
          111.901734,
          111.843673,
          112.005029,
          111.997693,
          111.869645,
          111.894787,
          111.825338,
          111.827529,
          112.039496,
          111.884371,
          111.708197,
          111.693084,
          111.793526,
          111.715785,
          111.456779,
          111.578338,
          111.687842,
          111.658093,
          111.663131,
          111.571003,
          111.569437,
          111.657526,
          112.379978,
          112.700204,
          112.763714,
          112.64425,
          112.680151,
          112.571762,
          112.493916,
          112.599162,
          112.766077,
          112.496282,
          112.672975,
          112.752873,
          112.642035,
          112.792351,
          112.682753,
          112.741046,
          113.019146,
          112.873709,
          112.900185,
          112.900092,
          113.008368,
          113.508928,
          113.424221,
          113.37366,
          113.31796,
          113.238619,
          113.103268,
          113.048284,
          113.248413,
          113.494709,
          113.356854,
          116.158015,
          113.397067,
          113.475401,
          108.478614,
          113.180986,
          113.134671,
          113.22861,
          113.250001,
          113.218615,
          113.216192,
          113.169912,
          113.132983,
          113.228665,
          113.29425,
          113.326489,
          113.222858,
          113.082868,
          113.103675,
          113.808373,
          113.820116,
          113.783858,
          113.824961,
          113.847912,
          113.834475,
          113.914312,
          113.976834,
          113.962696,
          113.87342,
          113.994128,
          113.995262,
          113.999,
          113.72678,
          114.225094,
          114.015293,
          114.088976,
          113.690157,
          114.394534,
          113.707478,
          113.713854,
          113.696221,
          113.747584,
          113.723173,
          113.660532,
          113.6097,
          113.653311,
          113.390769,
          113.452066,
          113.458873,
          113.530687,
          113.814857,
          113.833361,
          113.748614,
          113.592823,
          113.42626,
          113.785039,
          114.349226,
          114.349275,
          114.371131,
          114.290032,
          114.14039,
          114.146259,
          114.195196,
          114.100779,
          114.312408,
          114.281362,
          114.223325,
          114.170811,
          114.291403,
          114.231803,
          114.41685,
          113.482482,
          113.475832,
          113.496664,
          113.536201,
          113.523187,
          113.475204,
          113.485773,
          113.542649,
          113.237768,
          113.203757,
          113.23437,
          113.249999,
          113.240851,
          113.262374,
          113.045548,
          113.232871,
          113.136923,
          113.875531,
          113.856127,
          113.904777,
          113.743889,
          113.748622,
          113.80411,
          113.68951,
          113.94938,
          114.30956,
          113.864227,
          114.403796,
          113.836552,
          113.049326,
          112.73522,
          112.730995,
          112.713717,
          112.862943,
          112.82561,
          113.058542,
          112.758459,
          112.763822,
          113.026623
         ],
         "marker": {
          "color": "red",
          "opacity": 0.7,
          "size": 5
         },
         "mode": "markers",
         "name": "Schools",
         "subplot": "mapbox",
         "text": [
          "SMA NEGERI 1 SURABAYA",
          "SMA NEGERI 2 SURABAYA",
          "SMA NEGERI 3 SURABAYA",
          "SMA NEGERI 4 SURABAYA",
          "SMA NEGERI 5 SURABAYA",
          "SMA NEGERI 6 SURABAYA",
          "SMA NEGERI 7 SURABAYA",
          "SMA NEGERI 8 SURABAYA",
          "SMA NEGERI 9 SURABAYA",
          "SMA NEGERI 10 SURABAYA",
          "SMA NEGERI 11 SURABAYA",
          "SMA NEGERI 12 SURABAYA",
          "SMA NEGERI 13 SURABAYA",
          "SMA NEGERI 14 SURABAYA",
          "SMA NEGERI 15 SURABAYA",
          "SMA NEGERI 16 SURABAYA",
          "SMA NEGERI 17 SURABAYA",
          "SMA NEGERI 18 SURABAYA",
          "SMA NEGERI 19 SURABAYA",
          "SMA NEGERI 20 SURABAYA",
          "SMA NEGERI 21 SURABAYA",
          "SMA NEGERI 22 SURABAYA",
          "SMA NEGERI 1 MALANG",
          "SMA NEGERI 2 MALANG",
          "SMA NEGERI 3 MALANG",
          "SMA NEGERI 4 MALANG",
          "SMA NEGERI 5 MALANG",
          "SMA NEGERI 6 MALANG",
          "SMA NEGERI 7 MALANG",
          "SMA NEGERI 8 MALANG",
          "SMA NEGERI 9 MALANG",
          "SMA NEGERI 10 MALANG",
          "SMA NEGERI 11 MALANG (TIDAK UN)",
          "SMA NEGERI 12 MALANG (TIDAK UN)",
          "SMA NEGERI 1 MADIUN",
          "SMA NEGERI 2 MADIUN",
          "SMA NEGERI 3 MADIUN",
          "SMA NEGERI 4 MADIUN",
          "SMA NEGERI 5 MADIUN",
          "SMA NEGERI 6 MADIUN",
          "SMA NEGERI 1 KOTA KEDIRI",
          "SMA NEGERI 7 KOTA KEDIRI",
          "SMA NEGERI 2 KOTA KEDIRI",
          "SMA NEGERI 5 KOTA KEDIRI",
          "SMA NEGERI 3 KOTA KEDIRI",
          "SMA NEGERI 6 KOTA KEDIRI",
          "SMA NEGERI 4 KOTA KEDIRI",
          "SMA NEGERI 8 KOTA KEDIRI",
          "SMA NEGERI 1 MOJOKERTO",
          "SMA NEGERI 2 MOJOKERTO",
          "SMA NEGERI 3 MOJOKERTO",
          "SMA NEGERI 1 BLITAR",
          "SMA NEGERI 2 BLITAR",
          "SMA NEGERI 3 BLITAR",
          "SMA NEGERI 4 BLITAR",
          "SMA NEGERI 1 PASURUAN",
          "SMA NEGERI 4 PASURUAN",
          "SMA NEGERI 2 PASURUAN",
          "SMA NEGERI 3 PASURUAN",
          "SMA NEGERI 1 PROBOLINGGO",
          "SMA NEGERI 2 PROBOLINGGO",
          "SMA NEGERI 4 PROBOLINGGO",
          "SMA NEGERI 3 PROBOLINGGO",
          "SMA NEGERI 1 BATU",
          "SMA NEGERI 2 BATU",
          "SMA NEGERI 1 GRESIK",
          "SMA NEGERI 1 MANYAR",
          "SMA NEGERI 1 SIDAYU",
          "SMA NEGERI 1 CERME",
          "SMA NEGERI 1 KEDAMEAN",
          "SMA NEGERI 1 MENGANTI",
          "SMA NEGERI 1 DRIYOREJO",
          "SMA NEGERI 1 WRINGINANOM",
          "SMA NEGERI 1 SANGKAPURA",
          "SMA NEGERI 1 KEBOMAS",
          "SMA NEGERI 1 BALONGPANGGANG",
          "SMA NEGERI 1 DUKUN",
          "SMA NEGERI 1 SIDOARJO",
          "SMA NEGERI OLAH RAGA SIDOARJO",
          "SMA NEGERI 2 SIDOARJO",
          "SMA NEGERI 3 SIDOARJO",
          "SMA NEGERI 4 SIDOARJO",
          "SMA NEGERI 1 PORONG",
          "SMA NEGERI 1 KREMBUNG",
          "SMA NEGERI 1 KRIAN",
          "SMA NEGERI 1 TAMAN",
          "SMA NEGERI 1 WARU",
          "SMA NEGERI 1 GEDANGAN",
          "SMA NEGERI WONOAYU",
          "SMA NEGERI TARIK",
          "SMA NEGERI 1 SOOKO",
          "SMA NEGERI 1 PURI MOJOKERTO",
          "SMA NEGERI 1 GEDEG",
          "SMA NEGERI 1 DAWARBLANDONG",
          "SMA NEGERI 1 MOJOSARI",
          "SMA NEGERI 1 TRAWAS",
          "SMA NEGERI 1 GONDANG",
          "SMA NEGERI 1 KUTOREJO",
          "SMA NEGERI 1 BANGSAL",
          "SMA NEGERI 1 NGORO",
          "SMA NEGERI 1 PACET",
          "SMA NEGERI 1 JOMBANG",
          "SMA NEGERI 2 JOMBANG",
          "SMA NEGERI 1 JOGOROTO",
          "SMA NEGERI 3  JOMBANG",
          "SMA NEGERI NGORO",
          "SMA NEGERI BARENG",
          "SMA NEGERI PLOSO",
          "SMA NEGERI PLANDAAN",
          "SMA NEGERI KESAMBEN",
          "SMA NEGERI MOJOAGUNG JOMBANG",
          "SMA NEGERI KABUH",
          "SMA NEGERI BANDARKEDUNGMULYO",
          "SMA NEGERI 1 BOJONEGORO",
          "SMA NEGERI 3 BOJONEGORO",
          "SMA NEGERI 2 BOJONEGORO",
          "SMA NEGERI 4 BOJONEGORO",
          "SMA NEGERI 1 DANDER",
          "SMA NEGERI 1 PADANGAN",
          "SMA NEGERI 1 KALITIDU",
          "SMA NEGERI 1 NGRAHO",
          "SMA NEGERI 1 KASIMAN",
          "SMA NEGERI 1 SUMBERREJO",
          "SMA NEGERI 1 KEDUNGADEM",
          "SMA NEGERI 1 BAURENO",
          "SMA NEGERI 1 SUGIHWARAS",
          "SMA NEGERI 1 GONDANG",
          "SMA NEGERI 1 TAMBAKREJO",
          "SMA NEGERI 1 BALEN",
          "SMA NEGERI MODEL TERPADU BOJONEGORO",
          "SMA NEGERI 1 KEPOHBARU",
          "SMA NEGERI 1 MALO",
          "SMA NEGERI 1 BUBULAN",
          "SMA NEGERI 1 TUBAN",
          "SMA NEGERI 1 TAMBAKBOYO",
          "SMA NEGERI 2 TUBAN",
          "SMA NEGERI 3 TUBAN",
          "SMA NEGERI 1 SINGGAHAN",
          "SMA NEGERI 1 JATIROGO",
          "SMA NEGERI 1 PARENGAN",
          "SMA NEGERI 1 RENGEL",
          "SMA NEGERI 4 TUBAN",
          "SMA NEGER1 1 WIDANG",
          "SMA NEGERI GRABAGAN",
          "SMA NEGERI 1 SOKO",
          "SMA NEGERI 1 BANGILAN",
          "SMA NEGERI 1 KEREK",
          "SMA NEGERI 1 PLUMPANG",
          "SMA NEGERI 1 BANCAR",
          "SMA NEGERI 5 TUBAN",
          "SMA NEGERI 1 MONTONG",
          "SMA NEGERI 1 SENORI",
          "SMA NEGERI 1 KENDURUAN",
          "SMA NEGERI 1 LAMONGAN",
          "SMA NEGERI 2 LAMONGAN",
          "SMA NEGERI 1 BABAT",
          "SMA NEGERI 1 SUKODADI",
          "SMA NEGERI I PACIRAN",
          "SMA NEGERI 1 NGIMBANG",
          "SMA NEGERI 1 KARANGBINANGUN",
          "SMA NEGERI I KEDUNGPRING",
          "SMA NEGERI 1 MANTUP",
          "SMA NEGERI 3 LAMONGAN",
          "SMA NEGERI 1 SEKARAN",
          "SMA NEGERI 1 BLULUK",
          "SMA NEGERI 1 KEMBANGBAHU",
          "SMA NEGERI 1 MEJAYAN",
          "SMA NEGERI 1 PILANGKENCENG",
          "SMA NEGERI 2 MEJAYAN",
          "SMA NEGERI 1 SARADAN",
          "SMA NEGERI 1 NGLAMES",
          "SMA NEGERI 1 WUNGU",
          "SMA NEGERI 1 JIWAN",
          "SMA NEGERI 1 GEGER",
          "SMA NEGERI 1 DOLOPO",
          "SMA NEGERI 1 DAGANGAN",
          "SMA NEGERI 1 NGAWI",
          "SMA NEGERI 1 JOGOROGO",
          "SMA NEGERI 1 KEDUNGGALAR",
          "SMA NEGERI 2 NGAWI",
          "SMA NEGERI 1 KARANGJATI",
          "SMA NEGERI 1 WIDODAREN",
          "SMA NEGERI 1 NGRAMBE",
          "SMA NEGERI 1 SINE",
          "SMA NEGERI 1 KENDAL",
          "SMA NEGERI 1 KWADUNGAN",
          "SMA NEGERI 1 MAGETAN",
          "SMA NEGERI 1 KAWEDANAN",
          "SMA NEGERI 1 PARANG",
          "SMA NEGERI 2 MAGETAN",
          "SMA NEGERI 1 SUKOMORO",
          "SMA NEGERI 1 KARAS",
          "SMA NEGERI 1 MAOSPATI",
          "SMA NEGERI 1 BARAT",
          "SMA NEGERI 3 MAGETAN",
          "SMA NEGERI 1 PLAOSAN",
          "SMA NEGERI 1 PONOROGO",
          "SMA NEGERI 2 PONOROGO",
          "SMA NEGERI 1 BABADAN",
          "SMA NEGERI 3 PONOROGO",
          "SMA NEGERI 1 SLAHUNG",
          "SMA NEGERI 1 BALONG",
          "SMA NEGERI 1 BUNGKAL",
          "SMA NEGERI 1 BADEGAN",
          "SMA NEGERI 1 SAMBIT",
          "SMA NEGERI 1 MLARAK",
          "SMA NEGERI 1 PULUNG",
          "SMA NEGERI 1 NGRAYUN",
          "SMA NEGERI 1 JENANGAN",
          "SMA NEGERI 1 SOOKO",
          "SMA NEGERI 1 SAMPUNG",
          "SMA NEGERI 1 JETIS",
          "SMA NEGERI 1 KAUMAN",
          "SMA NEGERI 1 PACITAN",
          "SMA NEGERI PUNUNG",
          "SMA NEGERI 2 PACITAN",
          "SMA NEGERI 1 NGADIROJO",
          "SMA NEGERI 2 NGADIROJO",
          "SMA NEGERI TULAKAN",
          "SMA NEGERI NAWANGAN",
          "SMA NEGERI TEGALOMBO",
          "SMA NEGERI 1 PARE",
          "SMA NEGERI 1 KANDANGAN",
          "SMA NEGERI 1 PUNCU",
          "SMA NEGERI 2 PARE",
          "SMA NEGERI 1 PLEMAHAN",
          "SMA NEGERI 1 GURAH",
          "SMA NEGERI 1 KANDAT",
          "SMA NEGERI 1 NGADILUWIH",
          "SMA NEGERI 1 PAPAR",
          "SMA NEGERI 1 PURWOASRI",
          "SMA NEGERI 1 GROGOL",
          "SMA NEGERI 1 MOJO KEDIRI",
          "SMA NEGERI 1 WATES",
          "SMA NEGERI 1 PLOSOKLATEN",
          "SMA NEGERI 1 KRAS",
          "SMA NEGERI 1 NGANJUK",
          "SMA NEGERI 1 BERBEK",
          "SMA NEGERI 2 NGANJUK",
          "SMA NEGERI 1 LOCERET",
          "SMA NEGERI 1 PACE",
          "SMA NEGERI 3 NGANJUK",
          "SMA NEGERI 1 SUKOMORO",
          "SMA NEGERI 1 KERTOSONO",
          "SMA NEGERI 1 NGRONGGOT",
          "SMA NEGERI 1 PATIANROWO",
          "SMA NEGERI 1 TANJUNGANOM",
          "SMA NEGERI 1 PRAMBON",
          "SMA NEGERI 1 GONDANG",
          "SMA NEGERI 1 REJOSO",
          "SMA NEGERI 1 TALUN",
          "SMA NEGERI 1 GARUM",
          "SMA NEGERI 1 SRENGAT",
          "SMA NEGERI 1 PONGGOK",
          "SMA NEGERI 1 SUTOJAYAN",
          "SMA NEGERI 1 KESAMBEN",
          "SMA NEGERI 1 KADEMANGAN",
          "SMA NEGERI 1 KEDUNGWARU",
          "SMA NEGERI 1 BOYOLANGU TULUNGAGUNG",
          "SMA NEGERI 1 GONDANG",
          "SMA NEGERI 1 NGUNUT",
          "SMA NEGERI 1 KALIDAWIR",
          "SMA NEGERI 1 KAUMAN",
          "SMA NEGERI 1 KARANGREJO",
          "SMA NEGERI 1 CAMPURDARAT",
          "SMA NEGERI 1 PAKEL",
          "SMA NEGERI 1 REJOTANGAN",
          "SMA NEGERI 1 TULUNGAGUNG",
          "SMA NEGERI 1 TRENGGALEK",
          "SMA NEGERI 1 BENDUNGAN",
          "SMA NEGERI 1 DURENAN",
          "SMA NEGERI 2 TRENGGALEK",
          "SMA NEGERI 1 PANGGUL",
          "SMA NEGERI 1 DONGKO",
          "SMA NEGERI 1 KARANGAN",
          "SMA NEGERI 2 KARANGAN",
          "SMA NEGERI 1 KAMPAK",
          "SMA NEGERI 1 PULE",
          "SMA NEGERI 1 MUNJUNGAN",
          "SMA NEGERI 1 TUGU",
          "SMA NEGERI 1 NGANTANG",
          "SMA NEGERI 1 LAWANG",
          "SMA NEGERI 1 TUMPANG",
          "SMA NEGERI 1 GONDANGLEGI",
          "SMA NEGERI 1 TUREN",
          "SMA NEGERI 1 KEPANJEN",
          "SMA NEGERI 1 PAGAK",
          "SMA NEGERI 1 BANTUR",
          "SMA NEGERI 1 DAMPIT",
          "SMA NEGERI 1 SUMBERPUCUNG",
          "SMA NEGERI 1 SINGOSARI",
          "SMA NEGERI 1 SUMBERMANJING",
          "SMA NEGERI 1 BULULAWANG",
          "SMA NEGERI 1 BANGIL PASURUAN",
          "SMA NEGERI 1 PANDAAN",
          "SMA NEGERI 1 PURWOSARI",
          "SMA NEGERI 1 GRATI",
          "SMA NEGERI 1 KEJAYAN",
          "SMA NEGERI 1 GONDANGWETAN",
          "SMA NEGERI 1 TOSARI",
          "SMA NEGERI 1 LUMBANG",
          "SMA NEGERI 1 PAITON",
          "SMA NEGERI 1 KRAKSAAN",
          "SMA NEGERI 1 GADING",
          "SMA NEGERI 1 GENDING",
          "SMA NEGERI 1 DRINGU",
          "SMA NEGERI 1 TONGAS",
          "SMA NEGERI 1 SUKAPURA",
          "SMA NEGERI 1 LECES",
          "SMA NEGERI 1 BESUK",
          "SMA NEGERI 1 MARON",
          "SMA NEGERI 1 KURIPAN",
          "SMA NEGERI 1 TIRIS",
          "SMA NEGERI 1 KRUCIL",
          "SMA NEGERI 1 SUMBER",
          "SMA NEGERI 1 BANTARAN",
          "SMA NEGERI 1 SUMBERASIH",
          "SMA NEGERI 1 LUMAJANG",
          "SMA NEGERI KLAKAH",
          "SMA NEGERI 2 LUMAJANG",
          "SMA NEGERI 3 LUMAJANG",
          "SMA NEGERI TEMPEH",
          "SMA NEGERI PASIRIAN",
          "SMA NEGERI PRONOJIWO",
          "SMA NEGERI YOSOWILANGUN",
          "SMA NEGERI JATIROTO",
          "SMA NEGERI KUNIR",
          "SMA NEGERI CANDIPURO",
          "SMA NEGERI SENDURO",
          "SMA NEGERI 1 BONDOWOSO",
          "SMA NEGERI 2 BONDOWOSO",
          "SMA NEGERI GRUJUGAN",
          "SMA NEGERI TAMANAN",
          "SMA NEGERI 1 TENGGARANG",
          "SMA NEGERI 3 BONDOWOSO",
          "SMA NEGERI 1 TAPEN",
          "SMA NEGERI 1 PRAJEKAN",
          "SMA NEGERI 1 SUKOSARI",
          "SMA NEGERI 1 PUJER",
          "SMA NEGERI 1 SITUBONDO",
          "SMA NEGERI 2 SITUBONDO",
          "SMA NEGERI 1 PANARUKAN",
          "SMA NEGERI 1 SUBOH",
          "SMA NEGERI 1 ASEMBAGUS",
          "SMA NEGERI 1 PANJI SITUBONDO",
          "SMA NEGERI 1 KAPONGAN",
          "SMA NEGERI 1 BESUKI",
          "SMA NEGERI 1 BANYUPUTIH",
          "SMA NEGERI 1 JEMBER",
          "SMA NEGERI 2 JEMBER",
          "SMA NEGERI 3 JEMBER",
          "SMA NEGERI MUMBULSARI",
          "SMA NEGERI 5 JEMBER",
          "SMA NEGERI 4 JEMBER",
          "SMA NEGERI AMBULU",
          "SMA NEGERI 1 JENGGAWAH",
          "SMA NEGERI 1 KENCONG",
          "SMA NEGERI 2 TANGGUL",
          "SMA NEGERI 1 TANGGUL",
          "SMA NEGERI BALUNG",
          "SMA NEGERI KALISAT",
          "SMA NEGERI PLUS SUKOWONO",
          "SMA NEGERI ARJASA",
          "SMA NEGERI RAMBIPUJI",
          "SMA NEGERI UMBULSARI",
          "SMA NEGERI PAKUSARI",
          "SMA NEGERI 1 GLAGAH BANYUWANGI",
          "SMA NEGERI 1 GIRI",
          "SMA NEGERI 1 BANYUWANGI",
          "SMA NEGERI 1 ROGOJAMPI",
          "SMA NEGERI 1 BANGOREJO",
          "SMA NEGERI 1 GENTENG",
          "SMA NEGERI 2 GENTENG",
          "SMA NEGERI 1 PESANGGARAN",
          "SMA NEGERI 1 MUNCAR",
          "SMA NEGERI 1 TEGALDLIMO",
          "SMA NEGERI 1 CLURING",
          "SMA NEGERI 1 GAMBIRAN",
          "SMA NEGERI 1 SRONO",
          "SMA NEGERI DARUSSHOLAH SINGOJURUH",
          "SMA NEGERI WONGSOREJO",
          "SMA NEGERI 1 PAMEKASAN",
          "SMA NEGERI 4 PAMEKASAN",
          "SMA NEGERI 2 PAMEKASAN",
          "SMA NEGERI 1 GALIS",
          "SMA NEGERI 1 PADEMAWU",
          "SMA NEGERI 3 PAMEKASAN",
          "SMA NEGERI 5 PAMEKASAN",
          "SMA NEGERI 1 PAKONG",
          "SMA NEGERI 1 SAMPANG",
          "SMA NEGERI 1 TORJUN",
          "SMA NEGERI 2 SAMPANG",
          "SMA NEGERI 1 KEDUNGDUNG",
          "SMA NEGERI 1 KETAPANG",
          "SMA NEGERI 3 SAMPANG",
          "SMA NEGERI 1 SRESEH",
          "SMA NEGERI 4 SAMPANG",
          "SMA NEGERI 1 BANYUATES",
          "SMA NEGERI 1 SUMENEP",
          "SMA NEGERI 2 SUMENEP",
          "SMA NEGERI 1 KALIANGET",
          "SMA NEGERI 1 AMBUNTEN",
          "SMA NEGERI 1 ARJASA",
          "SMA NEGERI 1 BLUTO",
          "SMA NEGERI 1 LENTENG",
          "SMA NEGERI 1 GAPURA",
          "SMA NEGERI 1 GAYAM",
          "SMA NEGERI 1 SAPEKEN",
          "SMA NEGERI 1 MASALEMBU",
          "SMA NEGERI 1 BATUAN",
          "SMA NEGERI 1 BLEGA",
          "SMA NEGERI 2 BANGKALAN",
          "SMA NEGERI 3 BANGKALAN",
          "SMA NEGERI 1 KAMAL",
          "SMA NEGERI 1 KWANYAR",
          "SMA NEGERI 1 AROSBAYA",
          "SMA NEGERI 1 TANJUNGBUMI",
          "SMA NEGERI 1 BANGKALAN",
          "SMA NEGERI 4 BANGKALAN",
          "SMA NEGERI 1 KOKOP"
         ],
         "type": "scattermapbox"
        },
        {
         "colorscale": [
          [
           0,
           "#440154"
          ],
          [
           0.1111111111111111,
           "#482878"
          ],
          [
           0.2222222222222222,
           "#3e4989"
          ],
          [
           0.3333333333333333,
           "#31688e"
          ],
          [
           0.4444444444444444,
           "#26828e"
          ],
          [
           0.5555555555555556,
           "#1f9e89"
          ],
          [
           0.6666666666666666,
           "#35b779"
          ],
          [
           0.7777777777777778,
           "#6ece58"
          ],
          [
           0.8888888888888888,
           "#b5de2b"
          ],
          [
           1,
           "#fde725"
          ]
         ],
         "lat": [
          -7.257245,
          -7.257245,
          -7.242041,
          -7.265682,
          -7.256826,
          -7.263383,
          -7.247948,
          -7.224222,
          -7.257874,
          -7.320186,
          -7.262064,
          -7.242293,
          -7.307472,
          -7.315048,
          -7.341247,
          -7.309739,
          -7.327502,
          -7.313189,
          -7.22198,
          -7.307237,
          -7.26014,
          -7.333086,
          -7.976784,
          -7.991463,
          -7.9759,
          -7.976376,
          -7.989259,
          -8.010219,
          -7.945224,
          -7.956957,
          -7.936086,
          -7.974485,
          -8.006978,
          -7.924986,
          -7.632888,
          -7.621567,
          -7.606446,
          -7.647162,
          -7.631878,
          -7.633325,
          -7.811263,
          -7.813414,
          -7.811587,
          -7.809823,
          -7.831966,
          -7.853141,
          -7.854392,
          -7.816539,
          -7.48435,
          -7.45745,
          -7.462815,
          -8.100902,
          -8.065441,
          -8.092216,
          -8.105015,
          -7.637733,
          -7.639598,
          -7.660893,
          -7.648835,
          -7.754344,
          -7.765403,
          -7.764998,
          -7.802644,
          -7.878981,
          -7.906038,
          -7.168245,
          -7.144725,
          -6.999195,
          -7.226414,
          -7.324421,
          -7.267998,
          -7.353587,
          -7.376118,
          -5.847305,
          -7.163134,
          -7.29598,
          -7.555551,
          -7.435097,
          -7.43851,
          -7.461442,
          -7.46246,
          -7.447008,
          -7.538257,
          -7.511778,
          -7.402003,
          -7.36385,
          -7.355058,
          -7.387842,
          -7.430459,
          -7.433431,
          -7.497731,
          -7.48243,
          -7.45434,
          -7.331658,
          -7.509131,
          -7.643187,
          -7.611901,
          -7.569126,
          -7.516932,
          -7.569887,
          -7.611402,
          -7.555936,
          -7.551826,
          -7.591321,
          -7.551928,
          -7.690544,
          -7.661081,
          -7.442908,
          -7.466736,
          -7.496855,
          -7.573606,
          -7.398806,
          -7.589272,
          -7.151937,
          -7.164252,
          -7.168562,
          -7.149873,
          -7.258675,
          -7.167967,
          -7.139105,
          -7.226149,
          -7.110286,
          -7.172927,
          -7.312897,
          -7.130421,
          -7.295749,
          -7.39753,
          -7.267757,
          -7.19471,
          -7.176114,
          -7.226506,
          -7.111274,
          -7.328434,
          -6.901901,
          -6.800577,
          -6.901096,
          -6.904731,
          -6.962184,
          -6.869408,
          -7.050898,
          -7.04357,
          -6.876916,
          -7.024152,
          -7.005975,
          -7.115869,
          -6.947367,
          -6.90973,
          -6.991462,
          -6.788525,
          -6.935001,
          -6.958943,
          -7.046602,
          -6.908581,
          -7.118976,
          -7.11467,
          -7.108804,
          -7.101904,
          -6.873034,
          -7.299194,
          -7.025498,
          -7.187062,
          -7.270014,
          -7.112599,
          -7.06499,
          -7.314328,
          -7.230388,
          -7.548126,
          -7.490805,
          -7.548571,
          -7.552856,
          -7.576176,
          -7.690474,
          -7.596978,
          -7.727871,
          -7.764607,
          -7.710378,
          -7.41962,
          -7.515554,
          -7.391533,
          -7.441757,
          -7.448519,
          -7.379284,
          -7.461951,
          -7.508121,
          -6.922694,
          -7.501216,
          -7.65571,
          -7.684206,
          -7.749815,
          -7.639551,
          -7.622376,
          -7.577462,
          -7.595286,
          -7.553118,
          -7.654286,
          -7.671861,
          -7.863738,
          -7.872902,
          -7.815741,
          -7.882278,
          -8.006925,
          -7.95985,
          -7.985948,
          -7.872798,
          -7.965667,
          -7.910872,
          -7.880852,
          -8.093788,
          -7.808874,
          -7.497742,
          -7.803492,
          -7.889956,
          -8.063906,
          -8.205122,
          -8.149343,
          -8.207214,
          -8.231103,
          -8.148222,
          -8.170155,
          -7.947643,
          -8.037982,
          -7.763493,
          -7.745968,
          -7.840035,
          -7.75888,
          -7.716359,
          -7.813739,
          -7.899533,
          -7.916015,
          -7.713655,
          -7.66511,
          -7.750431,
          -7.893659,
          -7.916616,
          -7.831527,
          -7.989158,
          -7.600962,
          -7.644111,
          -7.611454,
          -7.665996,
          -7.68217,
          -7.581713,
          -7.62155,
          -7.601581,
          -7.704186,
          -7.575564,
          -7.639716,
          -7.680974,
          -7.525823,
          -7.553537,
          -8.081987,
          -8.079237,
          -8.065732,
          -7.998255,
          -8.16814,
          -8.143833,
          -8.14863,
          -8.055578,
          -8.087528,
          -8.075606,
          -8.131346,
          -8.17337,
          -8.063933,
          -7.997193,
          -8.205421,
          -8.169071,
          -8.108241,
          -8.059595,
          -8.059456,
          -7.966196,
          -8.120357,
          -8.0711,
          -8.216026,
          -8.181658,
          -8.055868,
          -8.081357,
          -8.175195,
          -8.102851,
          -8.301466,
          -8.048697,
          -7.878505,
          -7.84194,
          -8.000712,
          -8.137167,
          -8.183884,
          -8.124238,
          -8.299221,
          -8.275335,
          -8.209677,
          -8.149808,
          -7.918735,
          -8.351992,
          -8.071923,
          -7.583202,
          -7.654583,
          -7.776337,
          -7.713238,
          -7.703597,
          -7.711133,
          -7.8902,
          -7.810461,
          -7.721356,
          -7.763706,
          -7.868086,
          -7.813766,
          -7.754891,
          -7.736926,
          -7.885251,
          -7.872452,
          -7.827508,
          -7.843673,
          -8.657944,
          -7.969156,
          -7.94303,
          -6.760906,
          -7.846073,
          -7.740822,
          -8.119327,
          -7.981446,
          -8.126836,
          -8.135386,
          -8.210331,
          -8.227301,
          -8.115624,
          -8.228184,
          -8.134589,
          -8.21284,
          -8.197231,
          -8.102051,
          -7.914462,
          -7.922293,
          -8.002233,
          -8.019378,
          -7.911739,
          -7.918059,
          -7.873849,
          -7.798512,
          -7.9419,
          -7.962295,
          -7.708576,
          -7.702221,
          -7.724667,
          -7.731153,
          -7.765749,
          -7.704154,
          -7.689972,
          -7.735569,
          -7.920818,
          -8.178582,
          -8.169439,
          -8.201755,
          -8.263095,
          -8.134791,
          -8.187236,
          -8.34497,
          -8.275786,
          -8.290784,
          -8.168926,
          -8.153733,
          -8.286128,
          -8.125093,
          -8.052471,
          -8.118742,
          -8.204847,
          -8.255943,
          -8.173383,
          -8.209914,
          -8.21244,
          -8.228722,
          -8.303332,
          -8.485118,
          -8.353095,
          -8.368418,
          -8.558776,
          -8.44501,
          -8.495715,
          -8.436972,
          -8.435689,
          -8.371472,
          -8.315719,
          -8.035547,
          -7.157406,
          -7.151196,
          -7.162724,
          -7.164594,
          -7.189615,
          -7.152204,
          -7.143047,
          -7.029727,
          -7.185148,
          -7.159612,
          -7.209579,
          -7.093101,
          -6.897564,
          -7.211488,
          -7.214477,
          -7.196657,
          -6.89903,
          -7.017962,
          -7.013901,
          -7.035366,
          -6.894487,
          -8.118683,
          -7.114117,
          -7.040471,
          -6.996827,
          -7.154174,
          -7.001718,
          -5.56819,
          -7.005508,
          -7.129837,
          -7.046964,
          -7.048391,
          -7.124397,
          -7.153505,
          -6.951126,
          -6.890437,
          -7.029639,
          -7.020959,
          -6.941627
         ],
         "lon": [
          112.749496,
          112.749496,
          112.789872,
          112.755124,
          112.75023,
          112.744525,
          112.752779,
          112.742159,
          112.750381,
          112.740577,
          112.660723,
          112.636666,
          112.66281,
          112.765383,
          112.718836,
          112.7596,
          112.77482,
          112.714055,
          112.777218,
          112.789186,
          112.729702,
          112.678496,
          112.634883,
          112.633721,
          112.63515,
          112.634539,
          112.626298,
          112.64339,
          112.628167,
          112.616841,
          112.625222,
          112.660105,
          112.610179,
          112.65891,
          111.531318,
          111.525765,
          111.515505,
          111.525363,
          111.528552,
          111.530554,
          112.002876,
          112.000476,
          111.999266,
          111.980135,
          112.044158,
          112.022019,
          112.007009,
          112.028025,
          112.435098,
          112.444821,
          112.438424,
          112.180614,
          112.176807,
          112.147686,
          112.163731,
          112.90387,
          112.900668,
          112.894786,
          112.887073,
          113.196235,
          113.19967,
          113.202691,
          113.211168,
          112.52766,
          112.55398,
          112.653232,
          112.610861,
          112.564102,
          112.557549,
          112.512933,
          112.562509,
          112.626555,
          112.526474,
          112.666725,
          112.604168,
          112.4262,
          110.340963,
          112.721632,
          112.703128,
          112.703814,
          112.722363,
          112.685236,
          112.690057,
          112.624985,
          112.578172,
          112.679761,
          112.757939,
          112.741518,
          112.617956,
          112.523267,
          112.422987,
          112.43968,
          112.398576,
          112.421469,
          112.560338,
          112.597126,
          112.483088,
          112.509285,
          112.487323,
          112.590409,
          112.529012,
          112.233803,
          112.226957,
          112.271062,
          112.2307,
          112.264729,
          112.296197,
          112.224709,
          112.185492,
          112.344418,
          112.332223,
          112.208687,
          112.131561,
          111.880298,
          111.884056,
          111.869095,
          111.882867,
          111.856646,
          111.60968,
          111.764771,
          111.557743,
          111.622511,
          112.019141,
          112.047491,
          112.102507,
          111.954796,
          111.873319,
          111.61584,
          111.944646,
          111.907397,
          112.087517,
          111.757024,
          111.813541,
          112.068472,
          111.863629,
          112.048032,
          112.079859,
          111.786754,
          111.654871,
          111.818349,
          112.044906,
          112.02412,
          112.145117,
          111.978486,
          111.932209,
          111.722339,
          111.883619,
          112.113289,
          111.78423,
          112.057011,
          111.880945,
          111.741529,
          111.633092,
          112.422599,
          112.423265,
          112.171482,
          112.32224,
          112.309946,
          112.215434,
          112.485599,
          112.209401,
          112.36943,
          112.389104,
          112.277573,
          112.130568,
          112.376593,
          111.652312,
          111.663644,
          111.667917,
          111.6994,
          111.544422,
          111.628529,
          111.480643,
          111.532811,
          111.533096,
          111.551989,
          111.442094,
          111.263083,
          111.358688,
          111.43836,
          111.581444,
          111.213427,
          111.215339,
          111.167939,
          110.181472,
          111.503869,
          111.316187,
          111.427681,
          111.345405,
          111.330847,
          111.374621,
          111.406012,
          111.425128,
          111.454022,
          111.299019,
          111.218559,
          111.494421,
          111.478971,
          111.496722,
          111.460046,
          111.422571,
          111.442523,
          111.453341,
          111.384391,
          111.534381,
          111.529918,
          111.610791,
          111.472287,
          111.550228,
          112.422986,
          111.364365,
          110.374898,
          111.869629,
          111.092671,
          111.023281,
          111.135392,
          111.307908,
          111.346021,
          111.278724,
          111.188566,
          111.353121,
          112.183464,
          112.277439,
          112.261682,
          112.176101,
          112.129528,
          112.086842,
          112.0339,
          111.994595,
          112.070074,
          112.11912,
          111.970127,
          111.967611,
          112.093048,
          112.121402,
          111.957338,
          111.889421,
          111.870258,
          111.913418,
          111.883708,
          111.937315,
          111.903688,
          111.936409,
          112.09585,
          112.045937,
          112.110552,
          112.007363,
          112.006837,
          111.944967,
          111.870416,
          112.304674,
          112.240207,
          112.09215,
          112.102742,
          112.204859,
          112.365264,
          112.145939,
          111.910444,
          111.901734,
          111.843673,
          112.005029,
          111.997693,
          111.869645,
          111.894787,
          111.825338,
          111.827529,
          112.039496,
          111.884371,
          111.708197,
          111.693084,
          111.793526,
          111.715785,
          111.456779,
          111.578338,
          111.687842,
          111.658093,
          111.663131,
          111.571003,
          111.569437,
          111.657526,
          112.379978,
          112.700204,
          112.763714,
          112.64425,
          112.680151,
          112.571762,
          112.493916,
          112.599162,
          112.766077,
          112.496282,
          112.672975,
          112.752873,
          112.642035,
          112.792351,
          112.682753,
          112.741046,
          113.019146,
          112.873709,
          112.900185,
          112.900092,
          113.008368,
          113.508928,
          113.424221,
          113.37366,
          113.31796,
          113.238619,
          113.103268,
          113.048284,
          113.248413,
          113.494709,
          113.356854,
          116.158015,
          113.397067,
          113.475401,
          108.478614,
          113.180986,
          113.134671,
          113.22861,
          113.250001,
          113.218615,
          113.216192,
          113.169912,
          113.132983,
          113.228665,
          113.29425,
          113.326489,
          113.222858,
          113.082868,
          113.103675,
          113.808373,
          113.820116,
          113.783858,
          113.824961,
          113.847912,
          113.834475,
          113.914312,
          113.976834,
          113.962696,
          113.87342,
          113.994128,
          113.995262,
          113.999,
          113.72678,
          114.225094,
          114.015293,
          114.088976,
          113.690157,
          114.394534,
          113.707478,
          113.713854,
          113.696221,
          113.747584,
          113.723173,
          113.660532,
          113.6097,
          113.653311,
          113.390769,
          113.452066,
          113.458873,
          113.530687,
          113.814857,
          113.833361,
          113.748614,
          113.592823,
          113.42626,
          113.785039,
          114.349226,
          114.349275,
          114.371131,
          114.290032,
          114.14039,
          114.146259,
          114.195196,
          114.100779,
          114.312408,
          114.281362,
          114.223325,
          114.170811,
          114.291403,
          114.231803,
          114.41685,
          113.482482,
          113.475832,
          113.496664,
          113.536201,
          113.523187,
          113.475204,
          113.485773,
          113.542649,
          113.237768,
          113.203757,
          113.23437,
          113.249999,
          113.240851,
          113.262374,
          113.045548,
          113.232871,
          113.136923,
          113.875531,
          113.856127,
          113.904777,
          113.743889,
          113.748622,
          113.80411,
          113.68951,
          113.94938,
          114.30956,
          113.864227,
          114.403796,
          113.836552,
          113.049326,
          112.73522,
          112.730995,
          112.713717,
          112.862943,
          112.82561,
          113.058542,
          112.758459,
          112.763822,
          113.026623
         ],
         "name": "Density",
         "radius": 10,
         "showscale": true,
         "subplot": "mapbox2",
         "type": "densitymapbox",
         "z": [
          1,
          1,
          1,
          1,
          1,
          1,
          1,
          1,
          1,
          1,
          1,
          1,
          1,
          1,
          1,
          1,
          1,
          1,
          1,
          1,
          1,
          1,
          1,
          1,
          1,
          1,
          1,
          1,
          1,
          1,
          1,
          1,
          1,
          1,
          1,
          1,
          1,
          1,
          1,
          1,
          1,
          1,
          1,
          1,
          1,
          1,
          1,
          1,
          1,
          1,
          1,
          1,
          1,
          1,
          1,
          1,
          1,
          1,
          1,
          1,
          1,
          1,
          1,
          1,
          1,
          1,
          1,
          1,
          1,
          1,
          1,
          1,
          1,
          1,
          1,
          1,
          1,
          1,
          1,
          1,
          1,
          1,
          1,
          1,
          1,
          1,
          1,
          1,
          1,
          1,
          1,
          1,
          1,
          1,
          1,
          1,
          1,
          1,
          1,
          1,
          1,
          1,
          1,
          1,
          1,
          1,
          1,
          1,
          1,
          1,
          1,
          1,
          1,
          1,
          1,
          1,
          1,
          1,
          1,
          1,
          1,
          1,
          1,
          1,
          1,
          1,
          1,
          1,
          1,
          1,
          1,
          1,
          1,
          1,
          1,
          1,
          1,
          1,
          1,
          1,
          1,
          1,
          1,
          1,
          1,
          1,
          1,
          1,
          1,
          1,
          1,
          1,
          1,
          1,
          1,
          1,
          1,
          1,
          1,
          1,
          1,
          1,
          1,
          1,
          1,
          1,
          1,
          1,
          1,
          1,
          1,
          1,
          1,
          1,
          1,
          1,
          1,
          1,
          1,
          1,
          1,
          1,
          1,
          1,
          1,
          1,
          1,
          1,
          1,
          1,
          1,
          1,
          1,
          1,
          1,
          1,
          1,
          1,
          1,
          1,
          1,
          1,
          1,
          1,
          1,
          1,
          1,
          1,
          1,
          1,
          1,
          1,
          1,
          1,
          1,
          1,
          1,
          1,
          1,
          1,
          1,
          1,
          1,
          1,
          1,
          1,
          1,
          1,
          1,
          1,
          1,
          1,
          1,
          1,
          1,
          1,
          1,
          1,
          1,
          1,
          1,
          1,
          1,
          1,
          1,
          1,
          1,
          1,
          1,
          1,
          1,
          1,
          1,
          1,
          1,
          1,
          1,
          1,
          1,
          1,
          1,
          1,
          1,
          1,
          1,
          1,
          1,
          1,
          1,
          1,
          1,
          1,
          1,
          1,
          1,
          1,
          1,
          1,
          1,
          1,
          1,
          1,
          1,
          1,
          1,
          1,
          1,
          1,
          1,
          1,
          1,
          1,
          1,
          1,
          1,
          1,
          1,
          1,
          1,
          1,
          1,
          1,
          1,
          1,
          1,
          1,
          1,
          1,
          1,
          1,
          1,
          1,
          1,
          1,
          1,
          1,
          1,
          1,
          1,
          1,
          1,
          1,
          1,
          1,
          1,
          1,
          1,
          1,
          1,
          1,
          1,
          1,
          1,
          1,
          1,
          1,
          1,
          1,
          1,
          1,
          1,
          1,
          1,
          1,
          1,
          1,
          1,
          1,
          1,
          1,
          1,
          1,
          1,
          1,
          1,
          1,
          1,
          1,
          1,
          1,
          1,
          1,
          1,
          1,
          1,
          1,
          1,
          1,
          1,
          1,
          1,
          1,
          1,
          1,
          1,
          1,
          1,
          1,
          1,
          1,
          1,
          1,
          1,
          1,
          1,
          1,
          1,
          1,
          1,
          1,
          1,
          1,
          1,
          1,
          1,
          1,
          1,
          1,
          1,
          1,
          1,
          1,
          1,
          1,
          1,
          1,
          1,
          1,
          1,
          1,
          1,
          1,
          1,
          1,
          1,
          1,
          1,
          1,
          1,
          1
         ]
        },
        {
         "marker": {
          "color": "lightblue"
         },
         "name": "Schools per Region",
         "type": "bar",
         "x": [
          1,
          2,
          3,
          4,
          5,
          6,
          7,
          8,
          9,
          10,
          11,
          12,
          13,
          14,
          15,
          16,
          17,
          18,
          19,
          20,
          21,
          22,
          23,
          24,
          25,
          26,
          27,
          28,
          29,
          30,
          31,
          32,
          33,
          34,
          35,
          36,
          37,
          38
         ],
         "xaxis": "x",
         "y": [
          22,
          12,
          6,
          8,
          3,
          4,
          4,
          4,
          2,
          12,
          14,
          11,
          11,
          22,
          18,
          14,
          9,
          10,
          10,
          17,
          8,
          15,
          14,
          7,
          11,
          12,
          13,
          8,
          16,
          12,
          10,
          9,
          18,
          15,
          8,
          9,
          12,
          10
         ],
         "yaxis": "y"
        },
        {
         "hovertemplate": "<b>%{text}</b><br>Lat: %{lat}<br>Lon: %{lon}<extra></extra>",
         "lat": [
          -7.278802227272727,
          -7.97205975,
          -7.628877666666667,
          -7.825265625,
          -7.468205,
          -8.0908935,
          -7.64676475,
          -7.77184725,
          -7.892509499999999,
          -7.143556083333333,
          -7.440351857142857,
          -7.532357272727273,
          -7.546807545454545,
          -7.175163772727273,
          -6.957833888888889,
          -7.169256214285714,
          -7.628746222222222,
          -7.399024900000001,
          -7.640367100000001,
          -7.892666411764706,
          -8.137098,
          -7.814278533333334,
          -7.620666928571429,
          -8.097973428571429,
          -8.102443818181818,
          -8.115018916666667,
          -8.111010538461539,
          -7.730343875,
          -7.812846625,
          -8.149262166666666,
          -7.9264719999999995,
          -7.742542111111111,
          -8.199205777777777,
          -8.350395933333333,
          -7.1438141250000005,
          -7.118517333333333,
          -6.9967836666666665,
          -7.0336882
         ],
         "lon": [
          112.73600609090909,
          112.63395041666666,
          111.52617616666667,
          112.0104955,
          112.43944766666668,
          112.1672095,
          112.89659925,
          113.202441,
          112.54082,
          112.38768925,
          112.65520107142856,
          112.47728263636364,
          112.2469759090909,
          111.86286304545455,
          111.90715316666666,
          112.26825328571428,
          111.58916122222223,
          111.2365715,
          111.3597481,
          111.49190994117646,
          111.2157105,
          112.0961514,
          111.95829564285714,
          112.20797642857143,
          111.90906718181819,
          111.64606175,
          112.62795223076924,
          112.86470625,
          113.183729375,
          113.20625983333333,
          113.8646957,
          114.01435822222223,
          113.64140011111111,
          114.25801666666666,
          113.502249,
          113.20494011111111,
          113.91550675,
          112.8525257
         ],
         "marker": {
          "color": [
           22,
           12,
           6,
           8,
           3,
           4,
           4,
           4,
           2,
           12,
           14,
           11,
           11,
           22,
           18,
           14,
           9,
           10,
           10,
           17,
           8,
           15,
           14,
           7,
           11,
           12,
           13,
           8,
           16,
           12,
           10,
           9,
           18,
           15,
           8,
           9,
           12,
           10
          ],
          "colorbar": {
           "title": {
            "text": "School Count"
           }
          },
          "colorscale": [
           [
            0,
            "rgb(49,54,149)"
           ],
           [
            0.1,
            "rgb(69,117,180)"
           ],
           [
            0.2,
            "rgb(116,173,209)"
           ],
           [
            0.3,
            "rgb(171,217,233)"
           ],
           [
            0.4,
            "rgb(224,243,248)"
           ],
           [
            0.5,
            "rgb(255,255,191)"
           ],
           [
            0.6,
            "rgb(254,224,144)"
           ],
           [
            0.7,
            "rgb(253,174,97)"
           ],
           [
            0.8,
            "rgb(244,109,67)"
           ],
           [
            0.9,
            "rgb(215,48,39)"
           ],
           [
            1,
            "rgb(165,0,38)"
           ]
          ],
          "showscale": true,
          "size": [
           44,
           24,
           12,
           16,
           6,
           8,
           8,
           8,
           4,
           24,
           28,
           22,
           22,
           44,
           36,
           28,
           18,
           20,
           20,
           34,
           16,
           30,
           28,
           14,
           22,
           24,
           26,
           16,
           32,
           24,
           20,
           18,
           36,
           30,
           16,
           18,
           24,
           20
          ],
          "sizemode": "diameter"
         },
         "mode": "markers",
         "name": "Regional Centers",
         "subplot": "mapbox3",
         "text": [
          "Region 1: 22 schools",
          "Region 2: 12 schools",
          "Region 3: 6 schools",
          "Region 4: 8 schools",
          "Region 5: 3 schools",
          "Region 6: 4 schools",
          "Region 7: 4 schools",
          "Region 8: 4 schools",
          "Region 9: 2 schools",
          "Region 10: 12 schools",
          "Region 11: 14 schools",
          "Region 12: 11 schools",
          "Region 13: 11 schools",
          "Region 14: 22 schools",
          "Region 15: 18 schools",
          "Region 16: 14 schools",
          "Region 17: 9 schools",
          "Region 18: 10 schools",
          "Region 19: 10 schools",
          "Region 20: 17 schools",
          "Region 21: 8 schools",
          "Region 22: 15 schools",
          "Region 23: 14 schools",
          "Region 24: 7 schools",
          "Region 25: 11 schools",
          "Region 26: 12 schools",
          "Region 27: 13 schools",
          "Region 28: 8 schools",
          "Region 29: 16 schools",
          "Region 30: 12 schools",
          "Region 31: 10 schools",
          "Region 32: 9 schools",
          "Region 33: 18 schools",
          "Region 34: 15 schools",
          "Region 35: 8 schools",
          "Region 36: 9 schools",
          "Region 37: 12 schools",
          "Region 38: 10 schools"
         ],
         "type": "scattermapbox"
        }
       ],
       "layout": {
        "annotations": [
         {
          "font": {
           "size": 16
          },
          "showarrow": false,
          "text": "School Point Map",
          "x": 0.225,
          "xanchor": "center",
          "xref": "paper",
          "y": 1,
          "yanchor": "bottom",
          "yref": "paper"
         },
         {
          "font": {
           "size": 16
          },
          "showarrow": false,
          "text": "School Density Heatmap",
          "x": 0.775,
          "xanchor": "center",
          "xref": "paper",
          "y": 1,
          "yanchor": "bottom",
          "yref": "paper"
         },
         {
          "font": {
           "size": 16
          },
          "showarrow": false,
          "text": "Regional Distribution Bar Chart",
          "x": 0.225,
          "xanchor": "center",
          "xref": "paper",
          "y": 0.375,
          "yanchor": "bottom",
          "yref": "paper"
         },
         {
          "font": {
           "size": 16
          },
          "showarrow": false,
          "text": "Choropleth-style by Region",
          "x": 0.775,
          "xanchor": "center",
          "xref": "paper",
          "y": 0.375,
          "yanchor": "bottom",
          "yref": "paper"
         }
        ],
        "height": 800,
        "mapbox": {
         "center": {
          "lat": -7.5,
          "lon": 112.5
         },
         "domain": {
          "x": [
           0,
           0.45
          ],
          "y": [
           0.625,
           1
          ]
         },
         "style": "open-street-map",
         "zoom": 8
        },
        "mapbox2": {
         "center": {
          "lat": -7.5,
          "lon": 112.5
         },
         "domain": {
          "x": [
           0.55,
           1
          ],
          "y": [
           0.625,
           1
          ]
         },
         "style": "open-street-map",
         "zoom": 8
        },
        "mapbox3": {
         "domain": {
          "x": [
           0.55,
           1
          ],
          "y": [
           0,
           0.375
          ]
         }
        },
        "mapbox4": {
         "center": {
          "lat": -7.5,
          "lon": 112.5
         },
         "style": "open-street-map",
         "zoom": 8
        },
        "showlegend": false,
        "template": {
         "data": {
          "bar": [
           {
            "error_x": {
             "color": "#2a3f5f"
            },
            "error_y": {
             "color": "#2a3f5f"
            },
            "marker": {
             "line": {
              "color": "#E5ECF6",
              "width": 0.5
             },
             "pattern": {
              "fillmode": "overlay",
              "size": 10,
              "solidity": 0.2
             }
            },
            "type": "bar"
           }
          ],
          "barpolar": [
           {
            "marker": {
             "line": {
              "color": "#E5ECF6",
              "width": 0.5
             },
             "pattern": {
              "fillmode": "overlay",
              "size": 10,
              "solidity": 0.2
             }
            },
            "type": "barpolar"
           }
          ],
          "carpet": [
           {
            "aaxis": {
             "endlinecolor": "#2a3f5f",
             "gridcolor": "white",
             "linecolor": "white",
             "minorgridcolor": "white",
             "startlinecolor": "#2a3f5f"
            },
            "baxis": {
             "endlinecolor": "#2a3f5f",
             "gridcolor": "white",
             "linecolor": "white",
             "minorgridcolor": "white",
             "startlinecolor": "#2a3f5f"
            },
            "type": "carpet"
           }
          ],
          "choropleth": [
           {
            "colorbar": {
             "outlinewidth": 0,
             "ticks": ""
            },
            "type": "choropleth"
           }
          ],
          "contour": [
           {
            "colorbar": {
             "outlinewidth": 0,
             "ticks": ""
            },
            "colorscale": [
             [
              0,
              "#0d0887"
             ],
             [
              0.1111111111111111,
              "#46039f"
             ],
             [
              0.2222222222222222,
              "#7201a8"
             ],
             [
              0.3333333333333333,
              "#9c179e"
             ],
             [
              0.4444444444444444,
              "#bd3786"
             ],
             [
              0.5555555555555556,
              "#d8576b"
             ],
             [
              0.6666666666666666,
              "#ed7953"
             ],
             [
              0.7777777777777778,
              "#fb9f3a"
             ],
             [
              0.8888888888888888,
              "#fdca26"
             ],
             [
              1,
              "#f0f921"
             ]
            ],
            "type": "contour"
           }
          ],
          "contourcarpet": [
           {
            "colorbar": {
             "outlinewidth": 0,
             "ticks": ""
            },
            "type": "contourcarpet"
           }
          ],
          "heatmap": [
           {
            "colorbar": {
             "outlinewidth": 0,
             "ticks": ""
            },
            "colorscale": [
             [
              0,
              "#0d0887"
             ],
             [
              0.1111111111111111,
              "#46039f"
             ],
             [
              0.2222222222222222,
              "#7201a8"
             ],
             [
              0.3333333333333333,
              "#9c179e"
             ],
             [
              0.4444444444444444,
              "#bd3786"
             ],
             [
              0.5555555555555556,
              "#d8576b"
             ],
             [
              0.6666666666666666,
              "#ed7953"
             ],
             [
              0.7777777777777778,
              "#fb9f3a"
             ],
             [
              0.8888888888888888,
              "#fdca26"
             ],
             [
              1,
              "#f0f921"
             ]
            ],
            "type": "heatmap"
           }
          ],
          "heatmapgl": [
           {
            "colorbar": {
             "outlinewidth": 0,
             "ticks": ""
            },
            "colorscale": [
             [
              0,
              "#0d0887"
             ],
             [
              0.1111111111111111,
              "#46039f"
             ],
             [
              0.2222222222222222,
              "#7201a8"
             ],
             [
              0.3333333333333333,
              "#9c179e"
             ],
             [
              0.4444444444444444,
              "#bd3786"
             ],
             [
              0.5555555555555556,
              "#d8576b"
             ],
             [
              0.6666666666666666,
              "#ed7953"
             ],
             [
              0.7777777777777778,
              "#fb9f3a"
             ],
             [
              0.8888888888888888,
              "#fdca26"
             ],
             [
              1,
              "#f0f921"
             ]
            ],
            "type": "heatmapgl"
           }
          ],
          "histogram": [
           {
            "marker": {
             "pattern": {
              "fillmode": "overlay",
              "size": 10,
              "solidity": 0.2
             }
            },
            "type": "histogram"
           }
          ],
          "histogram2d": [
           {
            "colorbar": {
             "outlinewidth": 0,
             "ticks": ""
            },
            "colorscale": [
             [
              0,
              "#0d0887"
             ],
             [
              0.1111111111111111,
              "#46039f"
             ],
             [
              0.2222222222222222,
              "#7201a8"
             ],
             [
              0.3333333333333333,
              "#9c179e"
             ],
             [
              0.4444444444444444,
              "#bd3786"
             ],
             [
              0.5555555555555556,
              "#d8576b"
             ],
             [
              0.6666666666666666,
              "#ed7953"
             ],
             [
              0.7777777777777778,
              "#fb9f3a"
             ],
             [
              0.8888888888888888,
              "#fdca26"
             ],
             [
              1,
              "#f0f921"
             ]
            ],
            "type": "histogram2d"
           }
          ],
          "histogram2dcontour": [
           {
            "colorbar": {
             "outlinewidth": 0,
             "ticks": ""
            },
            "colorscale": [
             [
              0,
              "#0d0887"
             ],
             [
              0.1111111111111111,
              "#46039f"
             ],
             [
              0.2222222222222222,
              "#7201a8"
             ],
             [
              0.3333333333333333,
              "#9c179e"
             ],
             [
              0.4444444444444444,
              "#bd3786"
             ],
             [
              0.5555555555555556,
              "#d8576b"
             ],
             [
              0.6666666666666666,
              "#ed7953"
             ],
             [
              0.7777777777777778,
              "#fb9f3a"
             ],
             [
              0.8888888888888888,
              "#fdca26"
             ],
             [
              1,
              "#f0f921"
             ]
            ],
            "type": "histogram2dcontour"
           }
          ],
          "mesh3d": [
           {
            "colorbar": {
             "outlinewidth": 0,
             "ticks": ""
            },
            "type": "mesh3d"
           }
          ],
          "parcoords": [
           {
            "line": {
             "colorbar": {
              "outlinewidth": 0,
              "ticks": ""
             }
            },
            "type": "parcoords"
           }
          ],
          "pie": [
           {
            "automargin": true,
            "type": "pie"
           }
          ],
          "scatter": [
           {
            "fillpattern": {
             "fillmode": "overlay",
             "size": 10,
             "solidity": 0.2
            },
            "type": "scatter"
           }
          ],
          "scatter3d": [
           {
            "line": {
             "colorbar": {
              "outlinewidth": 0,
              "ticks": ""
             }
            },
            "marker": {
             "colorbar": {
              "outlinewidth": 0,
              "ticks": ""
             }
            },
            "type": "scatter3d"
           }
          ],
          "scattercarpet": [
           {
            "marker": {
             "colorbar": {
              "outlinewidth": 0,
              "ticks": ""
             }
            },
            "type": "scattercarpet"
           }
          ],
          "scattergeo": [
           {
            "marker": {
             "colorbar": {
              "outlinewidth": 0,
              "ticks": ""
             }
            },
            "type": "scattergeo"
           }
          ],
          "scattergl": [
           {
            "marker": {
             "colorbar": {
              "outlinewidth": 0,
              "ticks": ""
             }
            },
            "type": "scattergl"
           }
          ],
          "scattermapbox": [
           {
            "marker": {
             "colorbar": {
              "outlinewidth": 0,
              "ticks": ""
             }
            },
            "type": "scattermapbox"
           }
          ],
          "scatterpolar": [
           {
            "marker": {
             "colorbar": {
              "outlinewidth": 0,
              "ticks": ""
             }
            },
            "type": "scatterpolar"
           }
          ],
          "scatterpolargl": [
           {
            "marker": {
             "colorbar": {
              "outlinewidth": 0,
              "ticks": ""
             }
            },
            "type": "scatterpolargl"
           }
          ],
          "scatterternary": [
           {
            "marker": {
             "colorbar": {
              "outlinewidth": 0,
              "ticks": ""
             }
            },
            "type": "scatterternary"
           }
          ],
          "surface": [
           {
            "colorbar": {
             "outlinewidth": 0,
             "ticks": ""
            },
            "colorscale": [
             [
              0,
              "#0d0887"
             ],
             [
              0.1111111111111111,
              "#46039f"
             ],
             [
              0.2222222222222222,
              "#7201a8"
             ],
             [
              0.3333333333333333,
              "#9c179e"
             ],
             [
              0.4444444444444444,
              "#bd3786"
             ],
             [
              0.5555555555555556,
              "#d8576b"
             ],
             [
              0.6666666666666666,
              "#ed7953"
             ],
             [
              0.7777777777777778,
              "#fb9f3a"
             ],
             [
              0.8888888888888888,
              "#fdca26"
             ],
             [
              1,
              "#f0f921"
             ]
            ],
            "type": "surface"
           }
          ],
          "table": [
           {
            "cells": {
             "fill": {
              "color": "#EBF0F8"
             },
             "line": {
              "color": "white"
             }
            },
            "header": {
             "fill": {
              "color": "#C8D4E3"
             },
             "line": {
              "color": "white"
             }
            },
            "type": "table"
           }
          ]
         },
         "layout": {
          "annotationdefaults": {
           "arrowcolor": "#2a3f5f",
           "arrowhead": 0,
           "arrowwidth": 1
          },
          "autotypenumbers": "strict",
          "coloraxis": {
           "colorbar": {
            "outlinewidth": 0,
            "ticks": ""
           }
          },
          "colorscale": {
           "diverging": [
            [
             0,
             "#8e0152"
            ],
            [
             0.1,
             "#c51b7d"
            ],
            [
             0.2,
             "#de77ae"
            ],
            [
             0.3,
             "#f1b6da"
            ],
            [
             0.4,
             "#fde0ef"
            ],
            [
             0.5,
             "#f7f7f7"
            ],
            [
             0.6,
             "#e6f5d0"
            ],
            [
             0.7,
             "#b8e186"
            ],
            [
             0.8,
             "#7fbc41"
            ],
            [
             0.9,
             "#4d9221"
            ],
            [
             1,
             "#276419"
            ]
           ],
           "sequential": [
            [
             0,
             "#0d0887"
            ],
            [
             0.1111111111111111,
             "#46039f"
            ],
            [
             0.2222222222222222,
             "#7201a8"
            ],
            [
             0.3333333333333333,
             "#9c179e"
            ],
            [
             0.4444444444444444,
             "#bd3786"
            ],
            [
             0.5555555555555556,
             "#d8576b"
            ],
            [
             0.6666666666666666,
             "#ed7953"
            ],
            [
             0.7777777777777778,
             "#fb9f3a"
            ],
            [
             0.8888888888888888,
             "#fdca26"
            ],
            [
             1,
             "#f0f921"
            ]
           ],
           "sequentialminus": [
            [
             0,
             "#0d0887"
            ],
            [
             0.1111111111111111,
             "#46039f"
            ],
            [
             0.2222222222222222,
             "#7201a8"
            ],
            [
             0.3333333333333333,
             "#9c179e"
            ],
            [
             0.4444444444444444,
             "#bd3786"
            ],
            [
             0.5555555555555556,
             "#d8576b"
            ],
            [
             0.6666666666666666,
             "#ed7953"
            ],
            [
             0.7777777777777778,
             "#fb9f3a"
            ],
            [
             0.8888888888888888,
             "#fdca26"
            ],
            [
             1,
             "#f0f921"
            ]
           ]
          },
          "colorway": [
           "#636efa",
           "#EF553B",
           "#00cc96",
           "#ab63fa",
           "#FFA15A",
           "#19d3f3",
           "#FF6692",
           "#B6E880",
           "#FF97FF",
           "#FECB52"
          ],
          "font": {
           "color": "#2a3f5f"
          },
          "geo": {
           "bgcolor": "white",
           "lakecolor": "white",
           "landcolor": "#E5ECF6",
           "showlakes": true,
           "showland": true,
           "subunitcolor": "white"
          },
          "hoverlabel": {
           "align": "left"
          },
          "hovermode": "closest",
          "mapbox": {
           "style": "light"
          },
          "paper_bgcolor": "white",
          "plot_bgcolor": "#E5ECF6",
          "polar": {
           "angularaxis": {
            "gridcolor": "white",
            "linecolor": "white",
            "ticks": ""
           },
           "bgcolor": "#E5ECF6",
           "radialaxis": {
            "gridcolor": "white",
            "linecolor": "white",
            "ticks": ""
           }
          },
          "scene": {
           "xaxis": {
            "backgroundcolor": "#E5ECF6",
            "gridcolor": "white",
            "gridwidth": 2,
            "linecolor": "white",
            "showbackground": true,
            "ticks": "",
            "zerolinecolor": "white"
           },
           "yaxis": {
            "backgroundcolor": "#E5ECF6",
            "gridcolor": "white",
            "gridwidth": 2,
            "linecolor": "white",
            "showbackground": true,
            "ticks": "",
            "zerolinecolor": "white"
           },
           "zaxis": {
            "backgroundcolor": "#E5ECF6",
            "gridcolor": "white",
            "gridwidth": 2,
            "linecolor": "white",
            "showbackground": true,
            "ticks": "",
            "zerolinecolor": "white"
           }
          },
          "shapedefaults": {
           "line": {
            "color": "#2a3f5f"
           }
          },
          "ternary": {
           "aaxis": {
            "gridcolor": "white",
            "linecolor": "white",
            "ticks": ""
           },
           "baxis": {
            "gridcolor": "white",
            "linecolor": "white",
            "ticks": ""
           },
           "bgcolor": "#E5ECF6",
           "caxis": {
            "gridcolor": "white",
            "linecolor": "white",
            "ticks": ""
           }
          },
          "title": {
           "x": 0.05
          },
          "xaxis": {
           "automargin": true,
           "gridcolor": "white",
           "linecolor": "white",
           "ticks": "",
           "title": {
            "standoff": 15
           },
           "zerolinecolor": "white",
           "zerolinewidth": 2
          },
          "yaxis": {
           "automargin": true,
           "gridcolor": "white",
           "linecolor": "white",
           "ticks": "",
           "title": {
            "standoff": 15
           },
           "zerolinecolor": "white",
           "zerolinewidth": 2
          }
         }
        },
        "title": {
         "text": "East Java Schools Visualization - Multiple Views"
        },
        "xaxis": {
         "anchor": "y",
         "domain": [
          0,
          0.45
         ]
        },
        "yaxis": {
         "anchor": "x",
         "domain": [
          0,
          0.375
         ]
        }
       }
      }
     },
     "metadata": {},
     "output_type": "display_data"
    },
    {
     "name": "stdout",
     "output_type": "stream",
     "text": [
      "\n",
      "=== GEOSPATIAL SUMMARY ===\n",
      "Total schools visualized: 420\n",
      "Latitude range: -8.658 to -5.568\n",
      "Longitude range: 108.479 to 116.158\n",
      "Schools by region:\n",
      "  Region 1: 22 schools\n",
      "  Region 2: 12 schools\n",
      "  Region 3: 6 schools\n",
      "  Region 4: 8 schools\n",
      "  Region 5: 3 schools\n",
      "  Region 6: 4 schools\n",
      "  Region 7: 4 schools\n",
      "  Region 8: 4 schools\n",
      "  Region 9: 2 schools\n",
      "  Region 10: 12 schools\n",
      "  Region 11: 14 schools\n",
      "  Region 12: 11 schools\n",
      "  Region 13: 11 schools\n",
      "  Region 14: 22 schools\n",
      "  Region 15: 18 schools\n",
      "  Region 16: 14 schools\n",
      "  Region 17: 9 schools\n",
      "  Region 18: 10 schools\n",
      "  Region 19: 10 schools\n",
      "  Region 20: 17 schools\n",
      "  Region 21: 8 schools\n",
      "  Region 22: 15 schools\n",
      "  Region 23: 14 schools\n",
      "  Region 24: 7 schools\n",
      "  Region 25: 11 schools\n",
      "  Region 26: 12 schools\n",
      "  Region 27: 13 schools\n",
      "  Region 28: 8 schools\n",
      "  Region 29: 16 schools\n",
      "  Region 30: 12 schools\n",
      "  Region 31: 10 schools\n",
      "  Region 32: 9 schools\n",
      "  Region 33: 18 schools\n",
      "  Region 34: 15 schools\n",
      "  Region 35: 8 schools\n",
      "  Region 36: 9 schools\n",
      "  Region 37: 12 schools\n",
      "  Region 38: 10 schools\n"
     ]
    }
   ],
   "source": [
    "# Create choropleth map visualization using the GeoJSON data\n",
    "import json\n",
    "import plotly.express as px\n",
    "import plotly.graph_objects as go\n",
    "from plotly.subplots import make_subplots\n",
    "\n",
    "# Load the GeoJSON data for East Java schools\n",
    "with open('jatim.geojson', 'r', encoding='utf-8') as f:\n",
    "    geojson_schools = json.load(f)\n",
    "\n",
    "# Since the GeoJSON contains individual school points, let's create a density map\n",
    "# First, let's extract coordinates and create a data frame for visualization\n",
    "school_locations = []\n",
    "for feature in geojson_schools['features']:\n",
    "    coords = feature['geometry']['coordinates']\n",
    "    properties = feature['properties']\n",
    "    school_locations.append({\n",
    "        'longitude': coords[0],\n",
    "        'latitude': coords[1],\n",
    "        'name': properties.get('name', ''),\n",
    "        'NPSN': properties.get('NPSN', ''),\n",
    "        'FIELD6': properties.get('FIELD6', 1)  # This seems to be a region identifier\n",
    "    })\n",
    "\n",
    "school_df = pd.DataFrame(school_locations)\n",
    "\n",
    "print(f\"Total schools in GeoJSON: {len(school_df)}\")\n",
    "print(f\"Unique regions (FIELD6): {school_df['FIELD6'].nunique()}\")\n",
    "print(school_df.head())\n",
    "\n",
    "# Create multiple visualizations\n",
    "fig = make_subplots(\n",
    "    rows=2, cols=2,\n",
    "    subplot_titles=('School Point Map', 'School Density Heatmap', \n",
    "                   'Regional Distribution Bar Chart', 'Choropleth-style by Region'),\n",
    "    specs=[[{\"type\": \"mapbox\"}, {\"type\": \"mapbox\"}],\n",
    "           [{\"type\": \"xy\"}, {\"type\": \"mapbox\"}]]\n",
    ")\n",
    "\n",
    "# 1. Point map showing all schools\n",
    "fig.add_trace(\n",
    "    go.Scattermapbox(\n",
    "        lat=school_df['latitude'],\n",
    "        lon=school_df['longitude'],\n",
    "        mode='markers',\n",
    "        marker=dict(size=5, color='red', opacity=0.7),\n",
    "        text=school_df['name'],\n",
    "        hovertemplate='<b>%{text}</b><br>Lat: %{lat}<br>Lon: %{lon}<extra></extra>',\n",
    "        name='Schools'\n",
    "    ),\n",
    "    row=1, col=1\n",
    ")\n",
    "\n",
    "# 2. Density heatmap\n",
    "fig.add_trace(\n",
    "    go.Densitymapbox(\n",
    "        lat=school_df['latitude'],\n",
    "        lon=school_df['longitude'],\n",
    "        z=[1]*len(school_df),  # Equal weight for each school\n",
    "        radius=10,\n",
    "        showscale=True,\n",
    "        colorscale='Viridis',\n",
    "        name='Density'\n",
    "    ),\n",
    "    row=1, col=2\n",
    ")\n",
    "\n",
    "# 3. Bar chart by region\n",
    "region_counts = school_df['FIELD6'].value_counts().sort_index()\n",
    "fig.add_trace(\n",
    "    go.Bar(\n",
    "        x=region_counts.index,\n",
    "        y=region_counts.values,\n",
    "        marker_color='lightblue',\n",
    "        name='Schools per Region'\n",
    "    ),\n",
    "    row=2, col=1\n",
    ")\n",
    "\n",
    "# 4. Create a choropleth-like visualization by region\n",
    "# Group schools by region and calculate average coordinates\n",
    "region_summary = school_df.groupby('FIELD6').agg({\n",
    "    'latitude': 'mean',\n",
    "    'longitude': 'mean',\n",
    "    'name': 'count'\n",
    "}).rename(columns={'name': 'school_count'}).reset_index()\n",
    "\n",
    "fig.add_trace(\n",
    "    go.Scattermapbox(\n",
    "        lat=region_summary['latitude'],\n",
    "        lon=region_summary['longitude'],\n",
    "        mode='markers',\n",
    "        marker=dict(\n",
    "            size=region_summary['school_count'] * 2,  # Size based on school count\n",
    "            color=region_summary['school_count'],\n",
    "            colorscale='RdYlBu_r',\n",
    "            showscale=True,\n",
    "            colorbar=dict(title=\"School Count\"),\n",
    "            sizemode='diameter'\n",
    "        ),\n",
    "        text=[f'Region {r}: {c} schools' for r, c in zip(region_summary['FIELD6'], region_summary['school_count'])],\n",
    "        hovertemplate='<b>%{text}</b><br>Lat: %{lat}<br>Lon: %{lon}<extra></extra>',\n",
    "        name='Regional Centers'\n",
    "    ),\n",
    "    row=2, col=2\n",
    ")\n",
    "\n",
    "# Update layout for mapbox plots\n",
    "for i in range(1, 3):\n",
    "    for j in range(1, 3):\n",
    "        if i == 2 and j == 1:\n",
    "            continue  # Skip the bar chart\n",
    "        fig.update_layout(**{\n",
    "            f'mapbox{i*2+j-2 if i*2+j-2 > 1 else \"\"}': dict(\n",
    "                style='open-street-map',\n",
    "                center=dict(lat=-7.5, lon=112.5),  # Center on East Java\n",
    "                zoom=8\n",
    "            )\n",
    "        })\n",
    "\n",
    "# Update overall layout\n",
    "fig.update_layout(\n",
    "    height=800,\n",
    "    title_text=\"East Java Schools Visualization - Multiple Views\",\n",
    "    showlegend=False\n",
    ")\n",
    "\n",
    "fig.show()\n",
    "\n",
    "# Print summary statistics\n",
    "print(\"\\n=== GEOSPATIAL SUMMARY ===\")\n",
    "print(f\"Total schools visualized: {len(school_df)}\")\n",
    "print(f\"Latitude range: {school_df['latitude'].min():.3f} to {school_df['latitude'].max():.3f}\")\n",
    "print(f\"Longitude range: {school_df['longitude'].min():.3f} to {school_df['longitude'].max():.3f}\")\n",
    "print(f\"Schools by region:\")\n",
    "for region, count in region_counts.items():\n",
    "    print(f\"  Region {region}: {count} schools\")"
   ]
  },
  {
   "cell_type": "code",
   "execution_count": 40,
   "id": "f218267c",
   "metadata": {},
   "outputs": [
    {
     "name": "stdout",
     "output_type": "stream",
     "text": [
      "=== CORRECTED KABUPATEN/KOTA CHOROPLETH MAP ===\n"
     ]
    },
    {
     "data": {
      "application/vnd.plotly.v1+json": {
       "config": {
        "plotlyServerURL": "https://plot.ly"
       },
       "data": [
        {
         "hovertemplate": "<b>%{text}</b><br>Lat: %{lat:.3f}<br>Lon: %{lon:.3f}<extra></extra>",
         "lat": [
          -7.257,
          -7.977,
          -7.811,
          -7.755,
          -7.638,
          -7.879,
          -7.631,
          -8.1,
          -7.474
         ],
         "lon": [
          112.75,
          112.635,
          112.003,
          113.196,
          112.904,
          112.528,
          111.531,
          112.181,
          112.435
         ],
         "marker": {
          "color": "rgba(31, 119, 180, 0.8)",
          "size": [
           46.2471285604311,
           25.658198614318707,
           13.833718244803695,
           12.155504234026175,
           11.709006928406467,
           11.462663587374903,
           11.062355658198614,
           10.723633564280215,
           10
          ],
          "sizemode": "diameter"
         },
         "mode": "markers",
         "name": "KOTA (Cities)",
         "showlegend": true,
         "text": [
          "KOTA SURABAYA<br>2,587 schools<br>KOTA",
          "KOTA MALANG<br>1,250 schools<br>KOTA",
          "KOTA KEDIRI<br>482 schools<br>KOTA",
          "KOTA PROBOLINGGO<br>373 schools<br>KOTA",
          "KOTA PASURUAN<br>344 schools<br>KOTA",
          "KOTA BATU<br>328 schools<br>KOTA",
          "KOTA MADIUN<br>302 schools<br>KOTA",
          "KOTA BLITAR<br>280 schools<br>KOTA",
          "KOTA MOJOKERTO<br>233 schools<br>KOTA"
         ],
         "type": "scattermapbox"
        },
        {
         "hovertemplate": "<b>%{text}</b><br>Lat: %{lat:.3f}<br>Lon: %{lon:.3f}<extra></extra>",
         "lat": [
          -8.026,
          -8.171,
          -7.113,
          -7.154,
          -7.435,
          -7.848,
          -8.219,
          -7.745,
          -7.168,
          -7.047,
          -7.724,
          -7.017,
          -7.045,
          -6.897,
          -8.097,
          -7.605,
          -7.546,
          -7.913,
          -7.553,
          -7.156,
          -8.064,
          -8.133,
          -7.874,
          -7.5,
          -8.205,
          -7.706,
          -7.647,
          -8.051,
          -7.5
         ],
         "lon": [
          112.652,
          113.703,
          112.414,
          111.882,
          112.722,
          112.018,
          114.369,
          112.907,
          112.653,
          113.239,
          113.215,
          113.854,
          112.739,
          111.964,
          112.165,
          111.904,
          112.234,
          113.822,
          112.434,
          113.476,
          111.902,
          113.225,
          111.462,
          112.5,
          111.092,
          114.01,
          111.35,
          111.708,
          112.5
         ],
         "marker": {
          "color": "rgba(214, 39, 40, 0.8)",
          "size": [
           27.939445727482678,
           44.19636643571978,
           25.76757505773672,
           50,
           47.07467282525019,
           44.73441108545035,
           43.08698999230177,
           42.963818321785986,
           40.515781370284834,
           39.79214780600462,
           38.68360277136259,
           37.867590454195536,
           37.621247113163975,
           37.12856043110085,
           36.435719784449574,
           36.17397998460354,
           36.06620477290223,
           35.18860662047729,
           34.83448806774442,
           34.788298691301,
           34.72671285604311,
           33.75673595073133,
           29.615088529638182,
           29.568899153194764,
           27.382602001539645,
           27.321016166281755,
           25.3810623556582,
           24.98075442648191,
           24.88837567359507
          ],
          "sizemode": "diameter"
         },
         "mode": "markers",
         "name": "KABUPATEN (Regencies)",
         "showlegend": true,
         "text": [
          "KAB. MALANG<br>1,398 schools<br>KABUPATEN",
          "KAB. JEMBER<br>2,454 schools<br>KABUPATEN",
          "KAB. LAMONGAN<br>1,257 schools<br>KABUPATEN",
          "KAB. BOJONEGORO<br>2,831 schools<br>KABUPATEN",
          "KAB. SIDOARJO<br>2,641 schools<br>KABUPATEN",
          "KAB. KEDIRI<br>2,489 schools<br>KABUPATEN",
          "KAB. BANYUWANGI<br>2,382 schools<br>KABUPATEN",
          "KAB. PASURUAN<br>2,374 schools<br>KABUPATEN",
          "KAB. GRESIK<br>2,215 schools<br>KABUPATEN",
          "KAB. SAMPANG<br>2,168 schools<br>KABUPATEN",
          "KAB. PROBOLINGGO<br>2,096 schools<br>KABUPATEN",
          "KAB. SUMENEP<br>2,043 schools<br>KABUPATEN",
          "KAB. BANGKALAN<br>2,027 schools<br>KABUPATEN",
          "KAB. TUBAN<br>1,995 schools<br>KABUPATEN",
          "KAB. BLITAR<br>1,950 schools<br>KABUPATEN",
          "KAB. NGANJUK<br>1,933 schools<br>KABUPATEN",
          "KAB. JOMBANG<br>1,926 schools<br>KABUPATEN",
          "KAB. BONDOWOSO<br>1,869 schools<br>KABUPATEN",
          "KAB. MOJOKERTO<br>1,846 schools<br>KABUPATEN",
          "KAB. PAMEKASAN<br>1,843 schools<br>KABUPATEN",
          "KAB. TULUNGAGUNG<br>1,839 schools<br>KABUPATEN",
          "KAB. LUMAJANG<br>1,776 schools<br>KABUPATEN",
          "KAB. PONOROGO<br>1,507 schools<br>KABUPATEN",
          "KAB. NGAWI<br>1,504 schools<br>KABUPATEN",
          "KAB. PACITAN<br>1,362 schools<br>KABUPATEN",
          "KAB. SITUBONDO<br>1,358 schools<br>KABUPATEN",
          "KAB. MAGETAN<br>1,232 schools<br>KABUPATEN",
          "KAB. TRENGGALEK<br>1,206 schools<br>KABUPATEN",
          "KAB. MADIUN<br>1,200 schools<br>KABUPATEN"
         ],
         "type": "scattermapbox"
        }
       ],
       "layout": {
        "font": {
         "size": 12
        },
        "height": 700,
        "legend": {
         "bgcolor": "rgba(255, 255, 255, 0.8)",
         "bordercolor": "rgba(0, 0, 0, 0.2)",
         "borderwidth": 1,
         "x": 0.02,
         "y": 0.98
        },
        "mapbox": {
         "center": {
          "lat": -7.5,
          "lon": 112.5
         },
         "style": "open-street-map",
         "zoom": 7
        },
        "template": {
         "data": {
          "bar": [
           {
            "error_x": {
             "color": "#2a3f5f"
            },
            "error_y": {
             "color": "#2a3f5f"
            },
            "marker": {
             "line": {
              "color": "#E5ECF6",
              "width": 0.5
             },
             "pattern": {
              "fillmode": "overlay",
              "size": 10,
              "solidity": 0.2
             }
            },
            "type": "bar"
           }
          ],
          "barpolar": [
           {
            "marker": {
             "line": {
              "color": "#E5ECF6",
              "width": 0.5
             },
             "pattern": {
              "fillmode": "overlay",
              "size": 10,
              "solidity": 0.2
             }
            },
            "type": "barpolar"
           }
          ],
          "carpet": [
           {
            "aaxis": {
             "endlinecolor": "#2a3f5f",
             "gridcolor": "white",
             "linecolor": "white",
             "minorgridcolor": "white",
             "startlinecolor": "#2a3f5f"
            },
            "baxis": {
             "endlinecolor": "#2a3f5f",
             "gridcolor": "white",
             "linecolor": "white",
             "minorgridcolor": "white",
             "startlinecolor": "#2a3f5f"
            },
            "type": "carpet"
           }
          ],
          "choropleth": [
           {
            "colorbar": {
             "outlinewidth": 0,
             "ticks": ""
            },
            "type": "choropleth"
           }
          ],
          "contour": [
           {
            "colorbar": {
             "outlinewidth": 0,
             "ticks": ""
            },
            "colorscale": [
             [
              0,
              "#0d0887"
             ],
             [
              0.1111111111111111,
              "#46039f"
             ],
             [
              0.2222222222222222,
              "#7201a8"
             ],
             [
              0.3333333333333333,
              "#9c179e"
             ],
             [
              0.4444444444444444,
              "#bd3786"
             ],
             [
              0.5555555555555556,
              "#d8576b"
             ],
             [
              0.6666666666666666,
              "#ed7953"
             ],
             [
              0.7777777777777778,
              "#fb9f3a"
             ],
             [
              0.8888888888888888,
              "#fdca26"
             ],
             [
              1,
              "#f0f921"
             ]
            ],
            "type": "contour"
           }
          ],
          "contourcarpet": [
           {
            "colorbar": {
             "outlinewidth": 0,
             "ticks": ""
            },
            "type": "contourcarpet"
           }
          ],
          "heatmap": [
           {
            "colorbar": {
             "outlinewidth": 0,
             "ticks": ""
            },
            "colorscale": [
             [
              0,
              "#0d0887"
             ],
             [
              0.1111111111111111,
              "#46039f"
             ],
             [
              0.2222222222222222,
              "#7201a8"
             ],
             [
              0.3333333333333333,
              "#9c179e"
             ],
             [
              0.4444444444444444,
              "#bd3786"
             ],
             [
              0.5555555555555556,
              "#d8576b"
             ],
             [
              0.6666666666666666,
              "#ed7953"
             ],
             [
              0.7777777777777778,
              "#fb9f3a"
             ],
             [
              0.8888888888888888,
              "#fdca26"
             ],
             [
              1,
              "#f0f921"
             ]
            ],
            "type": "heatmap"
           }
          ],
          "heatmapgl": [
           {
            "colorbar": {
             "outlinewidth": 0,
             "ticks": ""
            },
            "colorscale": [
             [
              0,
              "#0d0887"
             ],
             [
              0.1111111111111111,
              "#46039f"
             ],
             [
              0.2222222222222222,
              "#7201a8"
             ],
             [
              0.3333333333333333,
              "#9c179e"
             ],
             [
              0.4444444444444444,
              "#bd3786"
             ],
             [
              0.5555555555555556,
              "#d8576b"
             ],
             [
              0.6666666666666666,
              "#ed7953"
             ],
             [
              0.7777777777777778,
              "#fb9f3a"
             ],
             [
              0.8888888888888888,
              "#fdca26"
             ],
             [
              1,
              "#f0f921"
             ]
            ],
            "type": "heatmapgl"
           }
          ],
          "histogram": [
           {
            "marker": {
             "pattern": {
              "fillmode": "overlay",
              "size": 10,
              "solidity": 0.2
             }
            },
            "type": "histogram"
           }
          ],
          "histogram2d": [
           {
            "colorbar": {
             "outlinewidth": 0,
             "ticks": ""
            },
            "colorscale": [
             [
              0,
              "#0d0887"
             ],
             [
              0.1111111111111111,
              "#46039f"
             ],
             [
              0.2222222222222222,
              "#7201a8"
             ],
             [
              0.3333333333333333,
              "#9c179e"
             ],
             [
              0.4444444444444444,
              "#bd3786"
             ],
             [
              0.5555555555555556,
              "#d8576b"
             ],
             [
              0.6666666666666666,
              "#ed7953"
             ],
             [
              0.7777777777777778,
              "#fb9f3a"
             ],
             [
              0.8888888888888888,
              "#fdca26"
             ],
             [
              1,
              "#f0f921"
             ]
            ],
            "type": "histogram2d"
           }
          ],
          "histogram2dcontour": [
           {
            "colorbar": {
             "outlinewidth": 0,
             "ticks": ""
            },
            "colorscale": [
             [
              0,
              "#0d0887"
             ],
             [
              0.1111111111111111,
              "#46039f"
             ],
             [
              0.2222222222222222,
              "#7201a8"
             ],
             [
              0.3333333333333333,
              "#9c179e"
             ],
             [
              0.4444444444444444,
              "#bd3786"
             ],
             [
              0.5555555555555556,
              "#d8576b"
             ],
             [
              0.6666666666666666,
              "#ed7953"
             ],
             [
              0.7777777777777778,
              "#fb9f3a"
             ],
             [
              0.8888888888888888,
              "#fdca26"
             ],
             [
              1,
              "#f0f921"
             ]
            ],
            "type": "histogram2dcontour"
           }
          ],
          "mesh3d": [
           {
            "colorbar": {
             "outlinewidth": 0,
             "ticks": ""
            },
            "type": "mesh3d"
           }
          ],
          "parcoords": [
           {
            "line": {
             "colorbar": {
              "outlinewidth": 0,
              "ticks": ""
             }
            },
            "type": "parcoords"
           }
          ],
          "pie": [
           {
            "automargin": true,
            "type": "pie"
           }
          ],
          "scatter": [
           {
            "fillpattern": {
             "fillmode": "overlay",
             "size": 10,
             "solidity": 0.2
            },
            "type": "scatter"
           }
          ],
          "scatter3d": [
           {
            "line": {
             "colorbar": {
              "outlinewidth": 0,
              "ticks": ""
             }
            },
            "marker": {
             "colorbar": {
              "outlinewidth": 0,
              "ticks": ""
             }
            },
            "type": "scatter3d"
           }
          ],
          "scattercarpet": [
           {
            "marker": {
             "colorbar": {
              "outlinewidth": 0,
              "ticks": ""
             }
            },
            "type": "scattercarpet"
           }
          ],
          "scattergeo": [
           {
            "marker": {
             "colorbar": {
              "outlinewidth": 0,
              "ticks": ""
             }
            },
            "type": "scattergeo"
           }
          ],
          "scattergl": [
           {
            "marker": {
             "colorbar": {
              "outlinewidth": 0,
              "ticks": ""
             }
            },
            "type": "scattergl"
           }
          ],
          "scattermapbox": [
           {
            "marker": {
             "colorbar": {
              "outlinewidth": 0,
              "ticks": ""
             }
            },
            "type": "scattermapbox"
           }
          ],
          "scatterpolar": [
           {
            "marker": {
             "colorbar": {
              "outlinewidth": 0,
              "ticks": ""
             }
            },
            "type": "scatterpolar"
           }
          ],
          "scatterpolargl": [
           {
            "marker": {
             "colorbar": {
              "outlinewidth": 0,
              "ticks": ""
             }
            },
            "type": "scatterpolargl"
           }
          ],
          "scatterternary": [
           {
            "marker": {
             "colorbar": {
              "outlinewidth": 0,
              "ticks": ""
             }
            },
            "type": "scatterternary"
           }
          ],
          "surface": [
           {
            "colorbar": {
             "outlinewidth": 0,
             "ticks": ""
            },
            "colorscale": [
             [
              0,
              "#0d0887"
             ],
             [
              0.1111111111111111,
              "#46039f"
             ],
             [
              0.2222222222222222,
              "#7201a8"
             ],
             [
              0.3333333333333333,
              "#9c179e"
             ],
             [
              0.4444444444444444,
              "#bd3786"
             ],
             [
              0.5555555555555556,
              "#d8576b"
             ],
             [
              0.6666666666666666,
              "#ed7953"
             ],
             [
              0.7777777777777778,
              "#fb9f3a"
             ],
             [
              0.8888888888888888,
              "#fdca26"
             ],
             [
              1,
              "#f0f921"
             ]
            ],
            "type": "surface"
           }
          ],
          "table": [
           {
            "cells": {
             "fill": {
              "color": "#EBF0F8"
             },
             "line": {
              "color": "white"
             }
            },
            "header": {
             "fill": {
              "color": "#C8D4E3"
             },
             "line": {
              "color": "white"
             }
            },
            "type": "table"
           }
          ]
         },
         "layout": {
          "annotationdefaults": {
           "arrowcolor": "#2a3f5f",
           "arrowhead": 0,
           "arrowwidth": 1
          },
          "autotypenumbers": "strict",
          "coloraxis": {
           "colorbar": {
            "outlinewidth": 0,
            "ticks": ""
           }
          },
          "colorscale": {
           "diverging": [
            [
             0,
             "#8e0152"
            ],
            [
             0.1,
             "#c51b7d"
            ],
            [
             0.2,
             "#de77ae"
            ],
            [
             0.3,
             "#f1b6da"
            ],
            [
             0.4,
             "#fde0ef"
            ],
            [
             0.5,
             "#f7f7f7"
            ],
            [
             0.6,
             "#e6f5d0"
            ],
            [
             0.7,
             "#b8e186"
            ],
            [
             0.8,
             "#7fbc41"
            ],
            [
             0.9,
             "#4d9221"
            ],
            [
             1,
             "#276419"
            ]
           ],
           "sequential": [
            [
             0,
             "#0d0887"
            ],
            [
             0.1111111111111111,
             "#46039f"
            ],
            [
             0.2222222222222222,
             "#7201a8"
            ],
            [
             0.3333333333333333,
             "#9c179e"
            ],
            [
             0.4444444444444444,
             "#bd3786"
            ],
            [
             0.5555555555555556,
             "#d8576b"
            ],
            [
             0.6666666666666666,
             "#ed7953"
            ],
            [
             0.7777777777777778,
             "#fb9f3a"
            ],
            [
             0.8888888888888888,
             "#fdca26"
            ],
            [
             1,
             "#f0f921"
            ]
           ],
           "sequentialminus": [
            [
             0,
             "#0d0887"
            ],
            [
             0.1111111111111111,
             "#46039f"
            ],
            [
             0.2222222222222222,
             "#7201a8"
            ],
            [
             0.3333333333333333,
             "#9c179e"
            ],
            [
             0.4444444444444444,
             "#bd3786"
            ],
            [
             0.5555555555555556,
             "#d8576b"
            ],
            [
             0.6666666666666666,
             "#ed7953"
            ],
            [
             0.7777777777777778,
             "#fb9f3a"
            ],
            [
             0.8888888888888888,
             "#fdca26"
            ],
            [
             1,
             "#f0f921"
            ]
           ]
          },
          "colorway": [
           "#636efa",
           "#EF553B",
           "#00cc96",
           "#ab63fa",
           "#FFA15A",
           "#19d3f3",
           "#FF6692",
           "#B6E880",
           "#FF97FF",
           "#FECB52"
          ],
          "font": {
           "color": "#2a3f5f"
          },
          "geo": {
           "bgcolor": "white",
           "lakecolor": "white",
           "landcolor": "#E5ECF6",
           "showlakes": true,
           "showland": true,
           "subunitcolor": "white"
          },
          "hoverlabel": {
           "align": "left"
          },
          "hovermode": "closest",
          "mapbox": {
           "style": "light"
          },
          "paper_bgcolor": "white",
          "plot_bgcolor": "#E5ECF6",
          "polar": {
           "angularaxis": {
            "gridcolor": "white",
            "linecolor": "white",
            "ticks": ""
           },
           "bgcolor": "#E5ECF6",
           "radialaxis": {
            "gridcolor": "white",
            "linecolor": "white",
            "ticks": ""
           }
          },
          "scene": {
           "xaxis": {
            "backgroundcolor": "#E5ECF6",
            "gridcolor": "white",
            "gridwidth": 2,
            "linecolor": "white",
            "showbackground": true,
            "ticks": "",
            "zerolinecolor": "white"
           },
           "yaxis": {
            "backgroundcolor": "#E5ECF6",
            "gridcolor": "white",
            "gridwidth": 2,
            "linecolor": "white",
            "showbackground": true,
            "ticks": "",
            "zerolinecolor": "white"
           },
           "zaxis": {
            "backgroundcolor": "#E5ECF6",
            "gridcolor": "white",
            "gridwidth": 2,
            "linecolor": "white",
            "showbackground": true,
            "ticks": "",
            "zerolinecolor": "white"
           }
          },
          "shapedefaults": {
           "line": {
            "color": "#2a3f5f"
           }
          },
          "ternary": {
           "aaxis": {
            "gridcolor": "white",
            "linecolor": "white",
            "ticks": ""
           },
           "baxis": {
            "gridcolor": "white",
            "linecolor": "white",
            "ticks": ""
           },
           "bgcolor": "#E5ECF6",
           "caxis": {
            "gridcolor": "white",
            "linecolor": "white",
            "ticks": ""
           }
          },
          "title": {
           "x": 0.05
          },
          "xaxis": {
           "automargin": true,
           "gridcolor": "white",
           "linecolor": "white",
           "ticks": "",
           "title": {
            "standoff": 15
           },
           "zerolinecolor": "white",
           "zerolinewidth": 2
          },
          "yaxis": {
           "automargin": true,
           "gridcolor": "white",
           "linecolor": "white",
           "ticks": "",
           "title": {
            "standoff": 15
           },
           "zerolinecolor": "white",
           "zerolinewidth": 2
          }
         }
        },
        "title": {
         "text": "East Java Schools Distribution by Administrative Type<br><sub>Blue = KOTA (Cities), Red = KABUPATEN (Regencies)<br>Bubble size proportional to total schools</sub>",
         "x": 0.5,
         "xanchor": "center"
        }
       }
      }
     },
     "metadata": {},
     "output_type": "display_data"
    },
    {
     "name": "stdout",
     "output_type": "stream",
     "text": [
      "\n",
      "=== KABUPATEN/KOTA STATISTICAL ANALYSIS ===\n",
      "Top 15 Kabupaten/Kota by Total Schools:\n",
      "KAB. BOJONEGORO          : 2,831 schools\n",
      "KAB. SIDOARJO            : 2,641 schools\n",
      "KOTA SURABAYA            : 2,587 schools\n",
      "KAB. KEDIRI              : 2,489 schools\n",
      "KAB. JEMBER              : 2,454 schools\n",
      "KAB. BANYUWANGI          : 2,382 schools\n",
      "KAB. PASURUAN            : 2,374 schools\n",
      "KAB. GRESIK              : 2,215 schools\n",
      "KAB. SAMPANG             : 2,168 schools\n",
      "KAB. PROBOLINGGO         : 2,096 schools\n",
      "KAB. SUMENEP             : 2,043 schools\n",
      "KAB. BANGKALAN           : 2,027 schools\n",
      "KAB. TUBAN               : 1,995 schools\n",
      "KAB. BLITAR              : 1,950 schools\n",
      "KAB. NGANJUK             : 1,933 schools\n",
      "\n",
      "Overall Statistics:\n",
      "Total Kabupaten/Kota: 38\n",
      "Mean schools per area: 1603\n",
      "Median schools per area: 1841\n",
      "Standard deviation: 745\n",
      "\n",
      "=== KOTA vs KABUPATEN ANALYSIS ===\n",
      "KOTA : 9 areas\n",
      "  Average schools: 687\n",
      "  Total schools: 6179\n",
      "  Top 3 Kota:\n",
      "    KOTA SURABAYA: 2,587 schools\n",
      "    KOTA MALANG: 1,250 schools\n",
      "    KOTA KEDIRI: 482 schools\n",
      "\n",
      "KABUPATEN : 29 areas\n",
      "  Average schools: 1887\n",
      "  Total schools: 54721\n",
      "  Top 3 Kabupaten:\n",
      "    KAB. BOJONEGORO: 2,831 schools\n",
      "    KAB. SIDOARJO: 2,641 schools\n",
      "    KAB. KEDIRI: 2,489 schools\n"
     ]
    }
   ],
   "source": [
    "# CORRECTED: Choropleth Map by Kabupaten/Kota\n",
    "import plotly.graph_objects as go\n",
    "import numpy as np\n",
    "\n",
    "# Use the CSV data directly for Kabupaten/Kota mapping\n",
    "print(\"=== CORRECTED KABUPATEN/KOTA CHOROPLETH MAP ===\")\n",
    "\n",
    "# Create coordinate mapping for major cities/regencies in East Java\n",
    "kab_kota_coords = {\n",
    "    'KOTA SURABAYA': (-7.257, 112.750),\n",
    "    'KOTA MALANG': (-7.977, 112.635),\n",
    "    'KOTA KEDIRI': (-7.811, 112.003),\n",
    "    'KOTA MOJOKERTO': (-7.474, 112.435),\n",
    "    'KOTA BLITAR': (-8.100, 112.181),\n",
    "    'KOTA PASURUAN': (-7.638, 112.904),\n",
    "    'KOTA PROBOLINGGO': (-7.755, 113.196),\n",
    "    'KOTA BATU': (-7.879, 112.528),\n",
    "    'KOTA MADIUN': (-7.631, 111.531),\n",
    "    'KAB. GRESIK': (-7.168, 112.653),\n",
    "    'KAB. SIDOARJO': (-7.435, 112.722),\n",
    "    'KAB. JEMBER': (-8.171, 113.703),\n",
    "    'KAB. LAMONGAN': (-7.113, 112.414),\n",
    "    'KAB. BOJONEGORO': (-7.154, 111.882),\n",
    "    'KAB. TUBAN': (-6.897, 111.964),\n",
    "    'KAB. JOMBANG': (-7.546, 112.234),\n",
    "    'KAB. NGANJUK': (-7.605, 111.904),\n",
    "    'KAB. MAGETAN': (-7.647, 111.350),\n",
    "    'KAB. PONOROGO': (-7.874, 111.462),\n",
    "    'KAB. PACITAN': (-8.205, 111.092),\n",
    "    'KAB. TRENGGALEK': (-8.051, 111.708),\n",
    "    'KAB. TULUNGAGUNG': (-8.064, 111.902),\n",
    "    'KAB. LUMAJANG': (-8.133, 113.225),\n",
    "    'KAB. BONDOWOSO': (-7.913, 113.822),\n",
    "    'KAB. SITUBONDO': (-7.706, 114.010),\n",
    "    'KAB. BANYUWANGI': (-8.219, 114.369),\n",
    "    'KAB. PAMEKASAN': (-7.156, 113.476),\n",
    "    'KAB. SAMPANG': (-7.047, 113.239),\n",
    "    'KAB. SUMENEP': (-7.017, 113.854),\n",
    "    'KAB. BANGKALAN': (-7.045, 112.739),\n",
    "    'KAB. KEDIRI': (-7.848, 112.018),\n",
    "    'KAB. MALANG': (-8.026, 112.652),\n",
    "    'KAB. PASURUAN': (-7.745, 112.907),\n",
    "    'KAB. PROBOLINGGO': (-7.724, 113.215),\n",
    "    'KAB. MOJOKERTO': (-7.553, 112.434),\n",
    "    'KAB. BLITAR': (-8.097, 112.165)\n",
    "}\n",
    "\n",
    "# Prepare data with coordinates\n",
    "plot_data = []\n",
    "for idx, row in clean_data.iterrows():\n",
    "    wilayah = row['Wilayah']\n",
    "    total_schools = row['Total_Sekolah']\n",
    "    \n",
    "    if wilayah in kab_kota_coords:\n",
    "        lat, lon = kab_kota_coords[wilayah]\n",
    "    else:\n",
    "        # Default location for unmapped areas\n",
    "        lat, lon = -7.5, 112.5\n",
    "    \n",
    "    plot_data.append({\n",
    "        'wilayah': wilayah,\n",
    "        'latitude': lat,\n",
    "        'longitude': lon,\n",
    "        'total_schools': total_schools\n",
    "    })\n",
    "\n",
    "plot_df = pd.DataFrame(plot_data)\n",
    "\n",
    "# Calculate bubble sizes (normalize to reasonable range)\n",
    "max_schools = plot_df['total_schools'].max()\n",
    "min_schools = plot_df['total_schools'].min()\n",
    "plot_df['bubble_size'] = 10 + (plot_df['total_schools'] - min_schools) / (max_schools - min_schools) * 40\n",
    "\n",
    "# Add region type classification\n",
    "plot_df['region_type'] = plot_df['wilayah'].apply(lambda x: 'KOTA' if 'KOTA' in x else 'KABUPATEN')\n",
    "\n",
    "# Separate data by region type\n",
    "kota_df = plot_df[plot_df['region_type'] == 'KOTA']\n",
    "kabupaten_df = plot_df[plot_df['region_type'] == 'KABUPATEN']\n",
    "\n",
    "# Create the choropleth map\n",
    "fig = go.Figure()\n",
    "\n",
    "# Add KOTA (Cities) bubbles - Blue color scheme\n",
    "fig.add_trace(go.Scattermapbox(\n",
    "    lat=kota_df['latitude'],\n",
    "    lon=kota_df['longitude'],\n",
    "    mode='markers',\n",
    "    marker=dict(\n",
    "        size=kota_df['bubble_size'],\n",
    "        color='rgba(31, 119, 180, 0.8)',  # Blue for cities\n",
    "        sizemode='diameter'\n",
    "    ),\n",
    "    text=[f'{wilayah}<br>{int(total):,} schools<br>KOTA' for wilayah, total in zip(kota_df['wilayah'], kota_df['total_schools'])],\n",
    "    hovertemplate='<b>%{text}</b><br>Lat: %{lat:.3f}<br>Lon: %{lon:.3f}<extra></extra>',\n",
    "    name='KOTA (Cities)',\n",
    "    showlegend=True\n",
    "))\n",
    "\n",
    "# Add KABUPATEN (Regencies) bubbles - Red color scheme\n",
    "fig.add_trace(go.Scattermapbox(\n",
    "    lat=kabupaten_df['latitude'],\n",
    "    lon=kabupaten_df['longitude'],\n",
    "    mode='markers',\n",
    "    marker=dict(\n",
    "        size=kabupaten_df['bubble_size'],\n",
    "        color='rgba(214, 39, 40, 0.8)',  # Red for regencies\n",
    "        sizemode='diameter'\n",
    "    ),\n",
    "    text=[f'{wilayah}<br>{int(total):,} schools<br>KABUPATEN' for wilayah, total in zip(kabupaten_df['wilayah'], kabupaten_df['total_schools'])],\n",
    "    hovertemplate='<b>%{text}</b><br>Lat: %{lat:.3f}<br>Lon: %{lon:.3f}<extra></extra>',\n",
    "    name='KABUPATEN (Regencies)',\n",
    "    showlegend=True\n",
    "))\n",
    "\n",
    "# Update layout\n",
    "fig.update_layout(\n",
    "    mapbox=dict(\n",
    "        style='open-street-map',\n",
    "        center=dict(lat=-7.5, lon=112.5),\n",
    "        zoom=7\n",
    "    ),\n",
    "    height=700,\n",
    "    title={\n",
    "        'text': 'East Java Schools Distribution by Administrative Type<br><sub>Blue = KOTA (Cities), Red = KABUPATEN (Regencies)<br>Bubble size proportional to total schools</sub>',\n",
    "        'x': 0.5,\n",
    "        'xanchor': 'center'\n",
    "    },\n",
    "    font=dict(size=12),\n",
    "    legend=dict(\n",
    "        x=0.02,\n",
    "        y=0.98,\n",
    "        bgcolor='rgba(255, 255, 255, 0.8)',\n",
    "        bordercolor='rgba(0, 0, 0, 0.2)',\n",
    "        borderwidth=1\n",
    "    )\n",
    ")\n",
    "\n",
    "fig.show()\n",
    "\n",
    "# Statistical Analysis\n",
    "print(\"\\n=== KABUPATEN/KOTA STATISTICAL ANALYSIS ===\")\n",
    "print(\"Top 15 Kabupaten/Kota by Total Schools:\")\n",
    "top_15 = plot_df.nlargest(15, 'total_schools')\n",
    "for idx, row in top_15.iterrows():\n",
    "    print(f\"{row['wilayah']:<25}: {int(row['total_schools']):,} schools\")\n",
    "\n",
    "print(f\"\\nOverall Statistics:\")\n",
    "print(f\"Total Kabupaten/Kota: {len(plot_df)}\")\n",
    "print(f\"Mean schools per area: {plot_df['total_schools'].mean():.0f}\")\n",
    "print(f\"Median schools per area: {plot_df['total_schools'].median():.0f}\")\n",
    "print(f\"Standard deviation: {plot_df['total_schools'].std():.0f}\")\n",
    "\n",
    "# Separate analysis for Kota vs Kabupaten\n",
    "kota_data = plot_df[plot_df['wilayah'].str.contains('KOTA', na=False)]\n",
    "kab_data = plot_df[plot_df['wilayah'].str.contains('KAB', na=False)]\n",
    "\n",
    "print(f\"\\n=== KOTA vs KABUPATEN ANALYSIS ===\")\n",
    "print(f\"KOTA : {len(kota_data)} areas\")\n",
    "print(f\"  Average schools: {kota_data['total_schools'].mean():.0f}\")\n",
    "print(f\"  Total schools: {kota_data['total_schools'].sum():.0f}\")\n",
    "print(f\"  Top 3 Kota:\")\n",
    "for idx, row in kota_data.nlargest(3, 'total_schools').iterrows():\n",
    "    print(f\"    {row['wilayah']}: {int(row['total_schools']):,} schools\")\n",
    "\n",
    "print(f\"\\nKABUPATEN : {len(kab_data)} areas\")\n",
    "print(f\"  Average schools: {kab_data['total_schools'].mean():.0f}\")\n",
    "print(f\"  Total schools: {kab_data['total_schools'].sum():.0f}\")\n",
    "print(f\"  Top 3 Kabupaten:\")\n",
    "for idx, row in kab_data.nlargest(3, 'total_schools').iterrows():\n",
    "    print(f\"    {row['wilayah']}: {int(row['total_schools']):,} schools\")"
   ]
  },
  {
   "cell_type": "code",
   "execution_count": 41,
   "id": "b6ef616c",
   "metadata": {},
   "outputs": [
    {
     "name": "stdout",
     "output_type": "stream",
     "text": [
      "=== CREATING SEPARATE MAPS FOR KABUPATEN AND KOTA ===\n"
     ]
    },
    {
     "data": {
      "application/vnd.plotly.v1+json": {
       "config": {
        "plotlyServerURL": "https://plot.ly"
       },
       "data": [
        {
         "hovertemplate": "<b>%{text}</b><br>Lat: %{lat:.3f}<br>Lon: %{lon:.3f}<extra></extra>",
         "lat": [
          -8.026,
          -8.171,
          -7.113,
          -7.154,
          -7.435,
          -7.848,
          -8.219,
          -7.745,
          -7.168,
          -7.047,
          -7.724,
          -7.017,
          -7.045,
          -6.897,
          -8.097,
          -7.605,
          -7.546,
          -7.913,
          -7.553,
          -7.156,
          -8.064,
          -8.133,
          -7.874,
          -7.5,
          -8.205,
          -7.706,
          -7.647,
          -8.051,
          -7.5
         ],
         "lon": [
          112.652,
          113.703,
          112.414,
          111.882,
          112.722,
          112.018,
          114.369,
          112.907,
          112.653,
          113.239,
          113.215,
          113.854,
          112.739,
          111.964,
          112.165,
          111.904,
          112.234,
          113.822,
          112.434,
          113.476,
          111.902,
          113.225,
          111.462,
          112.5,
          111.092,
          114.01,
          111.35,
          111.708,
          112.5
         ],
         "marker": {
          "color": "rgba(214, 39, 40, 0.8)",
          "size": [
           27.939445727482678,
           44.19636643571978,
           25.76757505773672,
           50,
           47.07467282525019,
           44.73441108545035,
           43.08698999230177,
           42.963818321785986,
           40.515781370284834,
           39.79214780600462,
           38.68360277136259,
           37.867590454195536,
           37.621247113163975,
           37.12856043110085,
           36.435719784449574,
           36.17397998460354,
           36.06620477290223,
           35.18860662047729,
           34.83448806774442,
           34.788298691301,
           34.72671285604311,
           33.75673595073133,
           29.615088529638182,
           29.568899153194764,
           27.382602001539645,
           27.321016166281755,
           25.3810623556582,
           24.98075442648191,
           24.88837567359507
          ],
          "sizemode": "diameter"
         },
         "mode": "markers",
         "name": "KABUPATEN",
         "showlegend": true,
         "subplot": "mapbox",
         "text": [
          "KAB. MALANG<br>1,398 schools",
          "KAB. JEMBER<br>2,454 schools",
          "KAB. LAMONGAN<br>1,257 schools",
          "KAB. BOJONEGORO<br>2,831 schools",
          "KAB. SIDOARJO<br>2,641 schools",
          "KAB. KEDIRI<br>2,489 schools",
          "KAB. BANYUWANGI<br>2,382 schools",
          "KAB. PASURUAN<br>2,374 schools",
          "KAB. GRESIK<br>2,215 schools",
          "KAB. SAMPANG<br>2,168 schools",
          "KAB. PROBOLINGGO<br>2,096 schools",
          "KAB. SUMENEP<br>2,043 schools",
          "KAB. BANGKALAN<br>2,027 schools",
          "KAB. TUBAN<br>1,995 schools",
          "KAB. BLITAR<br>1,950 schools",
          "KAB. NGANJUK<br>1,933 schools",
          "KAB. JOMBANG<br>1,926 schools",
          "KAB. BONDOWOSO<br>1,869 schools",
          "KAB. MOJOKERTO<br>1,846 schools",
          "KAB. PAMEKASAN<br>1,843 schools",
          "KAB. TULUNGAGUNG<br>1,839 schools",
          "KAB. LUMAJANG<br>1,776 schools",
          "KAB. PONOROGO<br>1,507 schools",
          "KAB. NGAWI<br>1,504 schools",
          "KAB. PACITAN<br>1,362 schools",
          "KAB. SITUBONDO<br>1,358 schools",
          "KAB. MAGETAN<br>1,232 schools",
          "KAB. TRENGGALEK<br>1,206 schools",
          "KAB. MADIUN<br>1,200 schools"
         ],
         "type": "scattermapbox"
        },
        {
         "hovertemplate": "<b>%{text}</b><br>Lat: %{lat:.3f}<br>Lon: %{lon:.3f}<extra></extra>",
         "lat": [
          -7.257,
          -7.977,
          -7.811,
          -7.755,
          -7.638,
          -7.879,
          -7.631,
          -8.1,
          -7.474
         ],
         "lon": [
          112.75,
          112.635,
          112.003,
          113.196,
          112.904,
          112.528,
          111.531,
          112.181,
          112.435
         ],
         "marker": {
          "color": "rgba(31, 119, 180, 0.8)",
          "size": [
           46.2471285604311,
           25.658198614318707,
           13.833718244803695,
           12.155504234026175,
           11.709006928406467,
           11.462663587374903,
           11.062355658198614,
           10.723633564280215,
           10
          ],
          "sizemode": "diameter"
         },
         "mode": "markers",
         "name": "KOTA",
         "showlegend": true,
         "subplot": "mapbox2",
         "text": [
          "KOTA SURABAYA<br>2,587 schools",
          "KOTA MALANG<br>1,250 schools",
          "KOTA KEDIRI<br>482 schools",
          "KOTA PROBOLINGGO<br>373 schools",
          "KOTA PASURUAN<br>344 schools",
          "KOTA BATU<br>328 schools",
          "KOTA MADIUN<br>302 schools",
          "KOTA BLITAR<br>280 schools",
          "KOTA MOJOKERTO<br>233 schools"
         ],
         "type": "scattermapbox"
        }
       ],
       "layout": {
        "annotations": [
         {
          "font": {
           "size": 16
          },
          "showarrow": false,
          "text": "KABUPATEN (Regencies)",
          "x": 0.2375,
          "xanchor": "center",
          "xref": "paper",
          "y": 1,
          "yanchor": "bottom",
          "yref": "paper"
         },
         {
          "font": {
           "size": 16
          },
          "showarrow": false,
          "text": "KOTA (Cities)",
          "x": 0.7625,
          "xanchor": "center",
          "xref": "paper",
          "y": 1,
          "yanchor": "bottom",
          "yref": "paper"
         }
        ],
        "font": {
         "size": 12
        },
        "height": 600,
        "legend": {
         "bgcolor": "rgba(255, 255, 255, 0.8)",
         "bordercolor": "rgba(0, 0, 0, 0.2)",
         "borderwidth": 1,
         "x": 0.02,
         "y": 0.98
        },
        "mapbox": {
         "center": {
          "lat": -7.5,
          "lon": 112.5
         },
         "domain": {
          "x": [
           0,
           0.475
          ],
          "y": [
           0,
           1
          ]
         },
         "style": "open-street-map",
         "zoom": 6.5
        },
        "mapbox2": {
         "center": {
          "lat": -7.5,
          "lon": 112.5
         },
         "domain": {
          "x": [
           0.525,
           1
          ],
          "y": [
           0,
           1
          ]
         },
         "style": "open-street-map",
         "zoom": 6.5
        },
        "template": {
         "data": {
          "bar": [
           {
            "error_x": {
             "color": "#2a3f5f"
            },
            "error_y": {
             "color": "#2a3f5f"
            },
            "marker": {
             "line": {
              "color": "#E5ECF6",
              "width": 0.5
             },
             "pattern": {
              "fillmode": "overlay",
              "size": 10,
              "solidity": 0.2
             }
            },
            "type": "bar"
           }
          ],
          "barpolar": [
           {
            "marker": {
             "line": {
              "color": "#E5ECF6",
              "width": 0.5
             },
             "pattern": {
              "fillmode": "overlay",
              "size": 10,
              "solidity": 0.2
             }
            },
            "type": "barpolar"
           }
          ],
          "carpet": [
           {
            "aaxis": {
             "endlinecolor": "#2a3f5f",
             "gridcolor": "white",
             "linecolor": "white",
             "minorgridcolor": "white",
             "startlinecolor": "#2a3f5f"
            },
            "baxis": {
             "endlinecolor": "#2a3f5f",
             "gridcolor": "white",
             "linecolor": "white",
             "minorgridcolor": "white",
             "startlinecolor": "#2a3f5f"
            },
            "type": "carpet"
           }
          ],
          "choropleth": [
           {
            "colorbar": {
             "outlinewidth": 0,
             "ticks": ""
            },
            "type": "choropleth"
           }
          ],
          "contour": [
           {
            "colorbar": {
             "outlinewidth": 0,
             "ticks": ""
            },
            "colorscale": [
             [
              0,
              "#0d0887"
             ],
             [
              0.1111111111111111,
              "#46039f"
             ],
             [
              0.2222222222222222,
              "#7201a8"
             ],
             [
              0.3333333333333333,
              "#9c179e"
             ],
             [
              0.4444444444444444,
              "#bd3786"
             ],
             [
              0.5555555555555556,
              "#d8576b"
             ],
             [
              0.6666666666666666,
              "#ed7953"
             ],
             [
              0.7777777777777778,
              "#fb9f3a"
             ],
             [
              0.8888888888888888,
              "#fdca26"
             ],
             [
              1,
              "#f0f921"
             ]
            ],
            "type": "contour"
           }
          ],
          "contourcarpet": [
           {
            "colorbar": {
             "outlinewidth": 0,
             "ticks": ""
            },
            "type": "contourcarpet"
           }
          ],
          "heatmap": [
           {
            "colorbar": {
             "outlinewidth": 0,
             "ticks": ""
            },
            "colorscale": [
             [
              0,
              "#0d0887"
             ],
             [
              0.1111111111111111,
              "#46039f"
             ],
             [
              0.2222222222222222,
              "#7201a8"
             ],
             [
              0.3333333333333333,
              "#9c179e"
             ],
             [
              0.4444444444444444,
              "#bd3786"
             ],
             [
              0.5555555555555556,
              "#d8576b"
             ],
             [
              0.6666666666666666,
              "#ed7953"
             ],
             [
              0.7777777777777778,
              "#fb9f3a"
             ],
             [
              0.8888888888888888,
              "#fdca26"
             ],
             [
              1,
              "#f0f921"
             ]
            ],
            "type": "heatmap"
           }
          ],
          "heatmapgl": [
           {
            "colorbar": {
             "outlinewidth": 0,
             "ticks": ""
            },
            "colorscale": [
             [
              0,
              "#0d0887"
             ],
             [
              0.1111111111111111,
              "#46039f"
             ],
             [
              0.2222222222222222,
              "#7201a8"
             ],
             [
              0.3333333333333333,
              "#9c179e"
             ],
             [
              0.4444444444444444,
              "#bd3786"
             ],
             [
              0.5555555555555556,
              "#d8576b"
             ],
             [
              0.6666666666666666,
              "#ed7953"
             ],
             [
              0.7777777777777778,
              "#fb9f3a"
             ],
             [
              0.8888888888888888,
              "#fdca26"
             ],
             [
              1,
              "#f0f921"
             ]
            ],
            "type": "heatmapgl"
           }
          ],
          "histogram": [
           {
            "marker": {
             "pattern": {
              "fillmode": "overlay",
              "size": 10,
              "solidity": 0.2
             }
            },
            "type": "histogram"
           }
          ],
          "histogram2d": [
           {
            "colorbar": {
             "outlinewidth": 0,
             "ticks": ""
            },
            "colorscale": [
             [
              0,
              "#0d0887"
             ],
             [
              0.1111111111111111,
              "#46039f"
             ],
             [
              0.2222222222222222,
              "#7201a8"
             ],
             [
              0.3333333333333333,
              "#9c179e"
             ],
             [
              0.4444444444444444,
              "#bd3786"
             ],
             [
              0.5555555555555556,
              "#d8576b"
             ],
             [
              0.6666666666666666,
              "#ed7953"
             ],
             [
              0.7777777777777778,
              "#fb9f3a"
             ],
             [
              0.8888888888888888,
              "#fdca26"
             ],
             [
              1,
              "#f0f921"
             ]
            ],
            "type": "histogram2d"
           }
          ],
          "histogram2dcontour": [
           {
            "colorbar": {
             "outlinewidth": 0,
             "ticks": ""
            },
            "colorscale": [
             [
              0,
              "#0d0887"
             ],
             [
              0.1111111111111111,
              "#46039f"
             ],
             [
              0.2222222222222222,
              "#7201a8"
             ],
             [
              0.3333333333333333,
              "#9c179e"
             ],
             [
              0.4444444444444444,
              "#bd3786"
             ],
             [
              0.5555555555555556,
              "#d8576b"
             ],
             [
              0.6666666666666666,
              "#ed7953"
             ],
             [
              0.7777777777777778,
              "#fb9f3a"
             ],
             [
              0.8888888888888888,
              "#fdca26"
             ],
             [
              1,
              "#f0f921"
             ]
            ],
            "type": "histogram2dcontour"
           }
          ],
          "mesh3d": [
           {
            "colorbar": {
             "outlinewidth": 0,
             "ticks": ""
            },
            "type": "mesh3d"
           }
          ],
          "parcoords": [
           {
            "line": {
             "colorbar": {
              "outlinewidth": 0,
              "ticks": ""
             }
            },
            "type": "parcoords"
           }
          ],
          "pie": [
           {
            "automargin": true,
            "type": "pie"
           }
          ],
          "scatter": [
           {
            "fillpattern": {
             "fillmode": "overlay",
             "size": 10,
             "solidity": 0.2
            },
            "type": "scatter"
           }
          ],
          "scatter3d": [
           {
            "line": {
             "colorbar": {
              "outlinewidth": 0,
              "ticks": ""
             }
            },
            "marker": {
             "colorbar": {
              "outlinewidth": 0,
              "ticks": ""
             }
            },
            "type": "scatter3d"
           }
          ],
          "scattercarpet": [
           {
            "marker": {
             "colorbar": {
              "outlinewidth": 0,
              "ticks": ""
             }
            },
            "type": "scattercarpet"
           }
          ],
          "scattergeo": [
           {
            "marker": {
             "colorbar": {
              "outlinewidth": 0,
              "ticks": ""
             }
            },
            "type": "scattergeo"
           }
          ],
          "scattergl": [
           {
            "marker": {
             "colorbar": {
              "outlinewidth": 0,
              "ticks": ""
             }
            },
            "type": "scattergl"
           }
          ],
          "scattermapbox": [
           {
            "marker": {
             "colorbar": {
              "outlinewidth": 0,
              "ticks": ""
             }
            },
            "type": "scattermapbox"
           }
          ],
          "scatterpolar": [
           {
            "marker": {
             "colorbar": {
              "outlinewidth": 0,
              "ticks": ""
             }
            },
            "type": "scatterpolar"
           }
          ],
          "scatterpolargl": [
           {
            "marker": {
             "colorbar": {
              "outlinewidth": 0,
              "ticks": ""
             }
            },
            "type": "scatterpolargl"
           }
          ],
          "scatterternary": [
           {
            "marker": {
             "colorbar": {
              "outlinewidth": 0,
              "ticks": ""
             }
            },
            "type": "scatterternary"
           }
          ],
          "surface": [
           {
            "colorbar": {
             "outlinewidth": 0,
             "ticks": ""
            },
            "colorscale": [
             [
              0,
              "#0d0887"
             ],
             [
              0.1111111111111111,
              "#46039f"
             ],
             [
              0.2222222222222222,
              "#7201a8"
             ],
             [
              0.3333333333333333,
              "#9c179e"
             ],
             [
              0.4444444444444444,
              "#bd3786"
             ],
             [
              0.5555555555555556,
              "#d8576b"
             ],
             [
              0.6666666666666666,
              "#ed7953"
             ],
             [
              0.7777777777777778,
              "#fb9f3a"
             ],
             [
              0.8888888888888888,
              "#fdca26"
             ],
             [
              1,
              "#f0f921"
             ]
            ],
            "type": "surface"
           }
          ],
          "table": [
           {
            "cells": {
             "fill": {
              "color": "#EBF0F8"
             },
             "line": {
              "color": "white"
             }
            },
            "header": {
             "fill": {
              "color": "#C8D4E3"
             },
             "line": {
              "color": "white"
             }
            },
            "type": "table"
           }
          ]
         },
         "layout": {
          "annotationdefaults": {
           "arrowcolor": "#2a3f5f",
           "arrowhead": 0,
           "arrowwidth": 1
          },
          "autotypenumbers": "strict",
          "coloraxis": {
           "colorbar": {
            "outlinewidth": 0,
            "ticks": ""
           }
          },
          "colorscale": {
           "diverging": [
            [
             0,
             "#8e0152"
            ],
            [
             0.1,
             "#c51b7d"
            ],
            [
             0.2,
             "#de77ae"
            ],
            [
             0.3,
             "#f1b6da"
            ],
            [
             0.4,
             "#fde0ef"
            ],
            [
             0.5,
             "#f7f7f7"
            ],
            [
             0.6,
             "#e6f5d0"
            ],
            [
             0.7,
             "#b8e186"
            ],
            [
             0.8,
             "#7fbc41"
            ],
            [
             0.9,
             "#4d9221"
            ],
            [
             1,
             "#276419"
            ]
           ],
           "sequential": [
            [
             0,
             "#0d0887"
            ],
            [
             0.1111111111111111,
             "#46039f"
            ],
            [
             0.2222222222222222,
             "#7201a8"
            ],
            [
             0.3333333333333333,
             "#9c179e"
            ],
            [
             0.4444444444444444,
             "#bd3786"
            ],
            [
             0.5555555555555556,
             "#d8576b"
            ],
            [
             0.6666666666666666,
             "#ed7953"
            ],
            [
             0.7777777777777778,
             "#fb9f3a"
            ],
            [
             0.8888888888888888,
             "#fdca26"
            ],
            [
             1,
             "#f0f921"
            ]
           ],
           "sequentialminus": [
            [
             0,
             "#0d0887"
            ],
            [
             0.1111111111111111,
             "#46039f"
            ],
            [
             0.2222222222222222,
             "#7201a8"
            ],
            [
             0.3333333333333333,
             "#9c179e"
            ],
            [
             0.4444444444444444,
             "#bd3786"
            ],
            [
             0.5555555555555556,
             "#d8576b"
            ],
            [
             0.6666666666666666,
             "#ed7953"
            ],
            [
             0.7777777777777778,
             "#fb9f3a"
            ],
            [
             0.8888888888888888,
             "#fdca26"
            ],
            [
             1,
             "#f0f921"
            ]
           ]
          },
          "colorway": [
           "#636efa",
           "#EF553B",
           "#00cc96",
           "#ab63fa",
           "#FFA15A",
           "#19d3f3",
           "#FF6692",
           "#B6E880",
           "#FF97FF",
           "#FECB52"
          ],
          "font": {
           "color": "#2a3f5f"
          },
          "geo": {
           "bgcolor": "white",
           "lakecolor": "white",
           "landcolor": "#E5ECF6",
           "showlakes": true,
           "showland": true,
           "subunitcolor": "white"
          },
          "hoverlabel": {
           "align": "left"
          },
          "hovermode": "closest",
          "mapbox": {
           "style": "light"
          },
          "paper_bgcolor": "white",
          "plot_bgcolor": "#E5ECF6",
          "polar": {
           "angularaxis": {
            "gridcolor": "white",
            "linecolor": "white",
            "ticks": ""
           },
           "bgcolor": "#E5ECF6",
           "radialaxis": {
            "gridcolor": "white",
            "linecolor": "white",
            "ticks": ""
           }
          },
          "scene": {
           "xaxis": {
            "backgroundcolor": "#E5ECF6",
            "gridcolor": "white",
            "gridwidth": 2,
            "linecolor": "white",
            "showbackground": true,
            "ticks": "",
            "zerolinecolor": "white"
           },
           "yaxis": {
            "backgroundcolor": "#E5ECF6",
            "gridcolor": "white",
            "gridwidth": 2,
            "linecolor": "white",
            "showbackground": true,
            "ticks": "",
            "zerolinecolor": "white"
           },
           "zaxis": {
            "backgroundcolor": "#E5ECF6",
            "gridcolor": "white",
            "gridwidth": 2,
            "linecolor": "white",
            "showbackground": true,
            "ticks": "",
            "zerolinecolor": "white"
           }
          },
          "shapedefaults": {
           "line": {
            "color": "#2a3f5f"
           }
          },
          "ternary": {
           "aaxis": {
            "gridcolor": "white",
            "linecolor": "white",
            "ticks": ""
           },
           "baxis": {
            "gridcolor": "white",
            "linecolor": "white",
            "ticks": ""
           },
           "bgcolor": "#E5ECF6",
           "caxis": {
            "gridcolor": "white",
            "linecolor": "white",
            "ticks": ""
           }
          },
          "title": {
           "x": 0.05
          },
          "xaxis": {
           "automargin": true,
           "gridcolor": "white",
           "linecolor": "white",
           "ticks": "",
           "title": {
            "standoff": 15
           },
           "zerolinecolor": "white",
           "zerolinewidth": 2
          },
          "yaxis": {
           "automargin": true,
           "gridcolor": "white",
           "linecolor": "white",
           "ticks": "",
           "title": {
            "standoff": 15
           },
           "zerolinecolor": "white",
           "zerolinewidth": 2
          }
         }
        },
        "title": {
         "text": "East Java Schools Distribution: Separate Maps for Kabupaten vs Kota<br><sub>Left: KABUPATEN (Red), Right: KOTA (Blue) - Bubble size proportional to total schools</sub>",
         "x": 0.5,
         "xanchor": "center"
        }
       }
      }
     },
     "metadata": {},
     "output_type": "display_data"
    },
    {
     "name": "stdout",
     "output_type": "stream",
     "text": [
      "\n",
      "=== DETAILED COMPARISON: KABUPATEN vs KOTA ===\n",
      "METRIC                    KABUPATEN       KOTA           \n",
      "-------------------------------------------------------\n",
      "Total Areas               29              9              \n",
      "Total Schools             54721           6179           \n",
      "Average Schools           1887            687            \n",
      "Median Schools            1926            344            \n",
      "Max Schools               2831            2587           \n",
      "Min Schools               1200            233            \n",
      "Std Deviation             455             777            \n",
      "\n",
      "=== TOP 5 KABUPATEN BY SCHOOLS ===\n",
      "KAB. BOJONEGORO          : 2,831 schools\n",
      "KAB. SIDOARJO            : 2,641 schools\n",
      "KAB. KEDIRI              : 2,489 schools\n",
      "KAB. JEMBER              : 2,454 schools\n",
      "KAB. BANYUWANGI          : 2,382 schools\n",
      "\n",
      "=== TOP 5 KOTA BY SCHOOLS ===\n",
      "KOTA SURABAYA            : 2,587 schools\n",
      "KOTA MALANG              : 1,250 schools\n",
      "KOTA KEDIRI              : 482 schools\n",
      "KOTA PROBOLINGGO         : 373 schools\n",
      "KOTA PASURUAN            : 344 schools\n",
      "\n",
      "=== SCHOOL DISTRIBUTION PERCENTAGE ===\n",
      "KABUPATEN: 89.9% of all schools\n",
      "KOTA: 10.1% of all schools\n"
     ]
    }
   ],
   "source": [
    "# SEPARATE MAPS: Kabupaten vs Kota\n",
    "from plotly.subplots import make_subplots\n",
    "import plotly.graph_objects as go\n",
    "\n",
    "print(\"=== CREATING SEPARATE MAPS FOR KABUPATEN AND KOTA ===\")\n",
    "\n",
    "# Create subplots side by side\n",
    "fig = make_subplots(\n",
    "    rows=1, cols=2,\n",
    "    subplot_titles=('KABUPATEN (Regencies)', 'KOTA (Cities)'),\n",
    "    specs=[[{\"type\": \"mapbox\"}, {\"type\": \"mapbox\"}]],\n",
    "    horizontal_spacing=0.05\n",
    ")\n",
    "\n",
    "# KABUPATEN MAP (Left side)\n",
    "fig.add_trace(\n",
    "    go.Scattermapbox(\n",
    "        lat=kabupaten_df['latitude'],\n",
    "        lon=kabupaten_df['longitude'],\n",
    "        mode='markers',\n",
    "        marker=dict(\n",
    "            size=kabupaten_df['bubble_size'],\n",
    "            color='rgba(214, 39, 40, 0.8)',  # Red for regencies\n",
    "            sizemode='diameter'\n",
    "        ),\n",
    "        text=[f'{wilayah}<br>{int(total):,} schools' for wilayah, total in zip(kabupaten_df['wilayah'], kabupaten_df['total_schools'])],\n",
    "        hovertemplate='<b>%{text}</b><br>Lat: %{lat:.3f}<br>Lon: %{lon:.3f}<extra></extra>',\n",
    "        name='KABUPATEN',\n",
    "        showlegend=True\n",
    "    ),\n",
    "    row=1, col=1\n",
    ")\n",
    "\n",
    "# KOTA MAP (Right side)\n",
    "fig.add_trace(\n",
    "    go.Scattermapbox(\n",
    "        lat=kota_df['latitude'],\n",
    "        lon=kota_df['longitude'],\n",
    "        mode='markers',\n",
    "        marker=dict(\n",
    "            size=kota_df['bubble_size'],\n",
    "            color='rgba(31, 119, 180, 0.8)',  # Blue for cities\n",
    "            sizemode='diameter'\n",
    "        ),\n",
    "        text=[f'{wilayah}<br>{int(total):,} schools' for wilayah, total in zip(kota_df['wilayah'], kota_df['total_schools'])],\n",
    "        hovertemplate='<b>%{text}</b><br>Lat: %{lat:.3f}<br>Lon: %{lon:.3f}<extra></extra>',\n",
    "        name='KOTA',\n",
    "        showlegend=True\n",
    "    ),\n",
    "    row=1, col=2\n",
    ")\n",
    "\n",
    "# Update mapbox styles for both subplots\n",
    "fig.update_layout(\n",
    "    mapbox1=dict(\n",
    "        style='open-street-map',\n",
    "        center=dict(lat=-7.5, lon=112.5),\n",
    "        zoom=6.5\n",
    "    ),\n",
    "    mapbox2=dict(\n",
    "        style='open-street-map',\n",
    "        center=dict(lat=-7.5, lon=112.5),\n",
    "        zoom=6.5\n",
    "    ),\n",
    "    height=600,\n",
    "    title={\n",
    "        'text': 'East Java Schools Distribution: Separate Maps for Kabupaten vs Kota<br><sub>Left: KABUPATEN (Red), Right: KOTA (Blue) - Bubble size proportional to total schools</sub>',\n",
    "        'x': 0.5,\n",
    "        'xanchor': 'center'\n",
    "    },\n",
    "    font=dict(size=12),\n",
    "    legend=dict(\n",
    "        x=0.02,\n",
    "        y=0.98,\n",
    "        bgcolor='rgba(255, 255, 255, 0.8)',\n",
    "        bordercolor='rgba(0, 0, 0, 0.2)',\n",
    "        borderwidth=1\n",
    "    )\n",
    ")\n",
    "\n",
    "fig.show()\n",
    "\n",
    "# Detailed comparison statistics\n",
    "print(\"\\n=== DETAILED COMPARISON: KABUPATEN vs KOTA ===\")\n",
    "print(f\"{'METRIC':<25} {'KABUPATEN':<15} {'KOTA':<15}\")\n",
    "print(\"-\" * 55)\n",
    "print(f\"{'Total Areas':<25} {len(kabupaten_df):<15} {len(kota_df):<15}\")\n",
    "print(f\"{'Total Schools':<25} {kabupaten_df['total_schools'].sum():<15.0f} {kota_df['total_schools'].sum():<15.0f}\")\n",
    "print(f\"{'Average Schools':<25} {kabupaten_df['total_schools'].mean():<15.0f} {kota_df['total_schools'].mean():<15.0f}\")\n",
    "print(f\"{'Median Schools':<25} {kabupaten_df['total_schools'].median():<15.0f} {kota_df['total_schools'].median():<15.0f}\")\n",
    "print(f\"{'Max Schools':<25} {kabupaten_df['total_schools'].max():<15.0f} {kota_df['total_schools'].max():<15.0f}\")\n",
    "print(f\"{'Min Schools':<25} {kabupaten_df['total_schools'].min():<15.0f} {kota_df['total_schools'].min():<15.0f}\")\n",
    "print(f\"{'Std Deviation':<25} {kabupaten_df['total_schools'].std():<15.0f} {kota_df['total_schools'].std():<15.0f}\")\n",
    "\n",
    "print(f\"\\n=== TOP 5 KABUPATEN BY SCHOOLS ===\")\n",
    "top_kab = kabupaten_df.nlargest(5, 'total_schools')\n",
    "for idx, row in top_kab.iterrows():\n",
    "    print(f\"{row['wilayah']:<25}: {int(row['total_schools']):,} schools\")\n",
    "\n",
    "print(f\"\\n=== TOP 5 KOTA BY SCHOOLS ===\")\n",
    "top_kota = kota_df.nlargest(5, 'total_schools')\n",
    "for idx, row in top_kota.iterrows():\n",
    "    print(f\"{row['wilayah']:<25}: {int(row['total_schools']):,} schools\")\n",
    "\n",
    "# Calculate percentage distribution\n",
    "total_all_schools = plot_df['total_schools'].sum()\n",
    "kab_percentage = (kabupaten_df['total_schools'].sum() / total_all_schools) * 100\n",
    "kota_percentage = (kota_df['total_schools'].sum() / total_all_schools) * 100\n",
    "\n",
    "print(f\"\\n=== SCHOOL DISTRIBUTION PERCENTAGE ===\")\n",
    "print(f\"KABUPATEN: {kab_percentage:.1f}% of all schools\")\n",
    "print(f\"KOTA: {kota_percentage:.1f}% of all schools\")"
   ]
  },
  {
   "cell_type": "code",
   "execution_count": null,
   "id": "55830081",
   "metadata": {},
   "outputs": [],
   "source": []
  }
 ],
 "metadata": {
  "kernelspec": {
   "display_name": "base",
   "language": "python",
   "name": "python3"
  },
  "language_info": {
   "codemirror_mode": {
    "name": "ipython",
    "version": 3
   },
   "file_extension": ".py",
   "mimetype": "text/x-python",
   "name": "python",
   "nbconvert_exporter": "python",
   "pygments_lexer": "ipython3",
   "version": "3.13.5"
  }
 },
 "nbformat": 4,
 "nbformat_minor": 5
}
