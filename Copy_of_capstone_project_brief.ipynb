{
  "nbformat": 4,
  "nbformat_minor": 0,
  "metadata": {
    "colab": {
      "provenance": [],
      "authorship_tag": "ABX9TyOKgVH0tHIpQuzsSF7kDVj3",
      "include_colab_link": true
    },
    "kernelspec": {
      "name": "python3",
      "display_name": "Python 3"
    },
    "language_info": {
      "name": "python"
    }
  },
  "cells": [
    {
      "cell_type": "markdown",
      "metadata": {
        "id": "view-in-github",
        "colab_type": "text"
      },
      "source": [
        "<a href=\"https://colab.research.google.com/github/VarizkyNaldiba/Personal_Learning/blob/main/Copy_of_capstone_project_brief.ipynb\" target=\"_parent\"><img src=\"https://colab.research.google.com/assets/colab-badge.svg\" alt=\"Open In Colab\"/></a>"
      ]
    },
    {
      "cell_type": "code",
      "execution_count": null,
      "metadata": {
        "collapsed": true,
        "id": "j4VgDIOVueMx"
      },
      "outputs": [],
      "source": [
        "import pandas as pd\n",
        "from langchain_core.prompts import PromptTemplate\n",
        "from langchain.chains import LLMChain\n"
      ]
    },
    {
      "cell_type": "code",
      "source": [
        "from langchain_community.llms import Replicate\n",
        "import os\n",
        "from google.colab import userdata\n",
        "\n",
        "# Set the aPI token\n",
        "api_token = userdata.get('api_token')\n",
        "os.environ['REPLICATE_API_TOKEN'] = api_token\n",
        "\n",
        "#model setup\n",
        "model = \"ibm-granite/granite-3.3-8b-instruct\"\n",
        "\n",
        "output = Replicate(model=model,REPLICATE_API_TOKEN=api_token)\n",
        "\n",
        "\n"
      ],
      "metadata": {
        "colab": {
          "base_uri": "https://localhost:8080/"
        },
        "id": "VdiDQ4tM8pZL",
        "outputId": "49e412d0-cd35-4558-ade7-ae38d7217557"
      },
      "execution_count": null,
      "outputs": [
        {
          "output_type": "stream",
          "name": "stderr",
          "text": [
            "WARNING:langchain_community.llms.replicate:REPLICATE_API_TOKEN was transferred to model_kwargs.\n",
            "                    Please confirm that REPLICATE_API_TOKEN is what you intended.\n"
          ]
        }
      ]
    },
    {
      "cell_type": "code",
      "source": [
        "df = pd.read_csv('sample_data/Cleaned_Students_Performance.csv')"
      ],
      "metadata": {
        "id": "shViJQbz83Ic"
      },
      "execution_count": null,
      "outputs": []
    },
    {
      "cell_type": "code",
      "source": [
        "sample = df[['gender', 'lunch', 'math_score', 'reading_score', 'writing_score']].sample(5, random_state=42)\n",
        "data_csv = sample.to_csv(index=False)"
      ],
      "metadata": {
        "id": "Lbk5Iz449Qvw"
      },
      "execution_count": null,
      "outputs": []
    },
    {
      "cell_type": "code",
      "source": [
        "# Define multitask prompt\n",
        "multitask_prompt = f\"\"\"\n",
        "Complete the task\n",
        "\n",
        "Step 1: Provide an analytical summary of the data below (statistical patterns, averages, categories, correlations).\n",
        "\n",
        "Data:\n",
        "{data_csv}\n",
        "\n",
        "Respond in English. Use markdown format with clear headings for each step.\n",
        "\"\"\"\n",
        "\n",
        "# Run the prompt using IBM Granite\n",
        "responseStep1 = output.invoke(multitask_prompt)\n",
        "print(\"Granite Model Response :\\n\")\n",
        "print(responseStep1)\n",
        "\n"
      ],
      "metadata": {
        "colab": {
          "base_uri": "https://localhost:8080/"
        },
        "id": "X4boiaua9VYE",
        "outputId": "b8d8f7e9-28b9-4148-a8bf-92ae07aec9eb"
      },
      "execution_count": null,
      "outputs": [
        {
          "output_type": "stream",
          "name": "stdout",
          "text": [
            "Granite Model Response :\n",
            "\n",
            "# Step 1: Analytical Summary of the Data\n",
            "\n",
            "## Data Overview\n",
            "\n",
            "The dataset contains information on four variables: gender (0 for female, 1 for male), lunch participation (1 for participating, 0 for not participating), and three score categories: math, reading, and writing.\n",
            "\n",
            "## Descriptive Statistics\n",
            "\n",
            "### Gender Distribution\n",
            "- Female (0): 2 out of 5 students\n",
            "- Male (1): 3 out of 5 students\n",
            "\n",
            "### Lunch Participation\n",
            "- Participated in lunch: 3 students\n",
            "- Did not participate in lunch: 2 students\n",
            "\n",
            "### Average Scores\n",
            "\n",
            "#### Math Scores\n",
            "- Overall average: (91 + 53 + 80 + 74 + 84) / 5 = 75.4\n",
            "- By gender:\n",
            "  - Females: (91 + 53) / 2 = 72\n",
            "  - Males: (80 + 74 + 84) / 3 ≈ 79.33\n",
            "- By lunch participation:\n",
            "  - Participated: (91 + 80 + 84) / 3 ≈ 84\n",
            "  - Did not participate: (53 + 74) / 2 = 63.5\n",
            "\n",
            "#### Reading Scores\n",
            "- Overall average: (86 + 66 + 73 + 77 + 83) / 5 = 77.4\n",
            "- By gender:\n",
            "  - Females: (86 + 66) / 2 = 76\n",
            "  - Males: (73 + 77) / 2 = 75\n",
            "- By lunch participation:\n",
            "  - Participated: (86 + 73 + 83) / 3 ≈ 80.67\n",
            "  - Did not participate: (66 + 77) / 2 = 71.5\n",
            "\n",
            "#### Writing Scores\n",
            "- Overall average: (84 + 73 + 72 + 73 + 78) / 5 = 76.2\n",
            "- By gender:\n",
            "  - Females: (84 + 73) / 2 = 78.5\n"
          ]
        }
      ]
    },
    {
      "cell_type": "code",
      "source": [
        "# Define multitask prompt\n",
        "multitask_prompt2 = f\"\"\"\n",
        "Complete the task\n",
        "\n",
        "Step 2: Extract key insights or findings from the analysis (unusual trends, relationships, disparities).\n",
        "\n",
        "Data:\n",
        "{data_csv}\n",
        "\n",
        "Respond in English. Use markdown format with clear headings for each step.\n",
        "\"\"\"\n",
        "\n",
        "# Run the prompt using IBM Granite\n",
        "responseStep2 = output.invoke(multitask_prompt2)\n",
        "print(\"Granite Model Response :\\n\")\n",
        "print(responseStep2)\n",
        "\n",
        "\n"
      ],
      "metadata": {
        "colab": {
          "base_uri": "https://localhost:8080/"
        },
        "id": "TVSYZI0u-B21",
        "outputId": "1406114e-a2a9-432b-acc0-b49f72b0f48d"
      },
      "execution_count": null,
      "outputs": [
        {
          "output_type": "stream",
          "name": "stdout",
          "text": [
            "Granite Model Response :\n",
            "\n",
            "# Step 2: Extract Key Insights or Findings\n",
            "\n",
            "## Unusual Trends\n",
            "- **Gender Impact on Scores**: There is a noticeable difference in average scores between genders. Males (1) tend to have slightly higher scores in math (average 81.2), reading (average 75.2), and writing (average 74.2) compared to females (0) whose average scores are 88.5 for math, 86 for reading, and 84 for writing.\n",
            "- **Lunch Participation**: Students who had lunch (1) before testing scored higher across all subjects (math: 82.6, reading: 80.5, writing: 76.6) compared to those who did not partake in lunch (0) with lower averages (math: 60, reading: 68, writing: 72.5).\n",
            "\n",
            "## Relationships\n",
            "- **Positive Correlation Between Lunch and Scores**: There's a strong positive correlation between participating in lunch and higher academic performance in math, reading, and writing.\n",
            "- **Gender and Lunch Interaction**: The gender gap in scores is more pronounced among students who did not have lunch. Female students without lunch scored notably lower (66 in reading, 73 in writing) compared to male students without lunch (53 in math, 74 in writing).\n",
            "\n",
            "## Disparities\n",
            "- **Significant Disparity in Math Scores**: Males outperform females in math scores by approximately 3 points on average.\n",
            "- **Reading Score Narrow Gap**: The difference in reading scores between genders is minimal, with females slightly leading (86 vs. 73 average).\n",
            "- **Writing Score Slight Edge to Females**: Females also have a slight edge in writing scores (84 vs. 74 average).\n",
            "\n",
            "### Summary\n",
            "The analysis reveals that gender plays a role in academic performance, with males generally scoring higher in math, while females show slight advantages in reading and writing. More critically, lunch participation significantly impacts overall performance, with students who had lunch achieving considerably better scores in all subjects. There’s an evident interaction effect where the disparity in scores between\n"
          ]
        }
      ]
    },
    {
      "cell_type": "code",
      "source": [
        "# Define multitask prompt\n",
        "multitask_prompt3 = f\"\"\"\n",
        "Complete the task\n",
        "\n",
        "Step 3: Provide recommendations based on the findings (suggest actions or improvements that can be made).\n",
        "\n",
        "Data:\n",
        "{data_csv}\n",
        "\n",
        "Respond in English. Use markdown format with clear headings for each step.\n",
        "\"\"\"\n",
        "\n",
        "# Run the prompt using IBM Granite\n",
        "responseStep3 = output.invoke(multitask_prompt3)\n",
        "print(\"Granite Model Response :\\n\")\n",
        "print(responseStep3)\n",
        "\n"
      ],
      "metadata": {
        "colab": {
          "base_uri": "https://localhost:8080/"
        },
        "id": "D62cT6DaArNp",
        "outputId": "31e3e079-9bec-4615-b4ea-223f2eddfb8e"
      },
      "execution_count": null,
      "outputs": [
        {
          "output_type": "stream",
          "name": "stdout",
          "text": [
            "Granite Model Response :\n",
            "\n",
            "# Step 3: Recommendations\n",
            "\n",
            "Based on the analysis of the provided data, here are some recommendations that could potentially improve students' performance, particularly focusing on math and reading scores:\n",
            "\n",
            "## 1. Lunch Participation and Academic Performance\n",
            "\n",
            "- **Recommendation**: Encourage consistent participation in lunch programs. The data suggests that students who regularly participate in lunch (value of 1) tend to perform better in math and reading compared to those who do not (value of 0).\n",
            "  \n",
            "  - *Action*: Implement strategies to increase lunch attendance, such as offering more appealing meal options, ensuring a welcoming and inclusive dining environment, or addressing potential barriers like transportation or cost.\n",
            "\n",
            "## 2. Gender-Specific Support\n",
            "\n",
            "- **Recommendation**: Provide targeted support for male students in reading and math, as female students generally outperform males in the provided dataset.\n",
            "\n",
            "  - *Action*: Develop gender-specific interventions or tailored educational programs that address the particular challenges faced by male students in these subjects. This could involve male role models in classrooms, specialized after-school tutoring, or curriculum adjustments to engage male learners more effectively.\n",
            "\n",
            "## 3. Integrated Learning Approach\n",
            "\n",
            "- **Recommendation**: Consider integrating reading and math instruction to leverage strengths in one area to bolster performance in the other.\n",
            "\n",
            "  - *Action*: Design cross-curricular projects that use reading comprehension skills to enhance math understanding and vice versa. For example, students could apply mathematical concepts learned in class to solve real-world problems presented in reading materials.\n",
            "\n",
            "## 4. Personalized Learning Plans\n",
            "\n",
            "- **Recommendation**: Develop personalized learning plans that take into account individual student performance in lunch participation, gender, and subject-specific needs.\n",
            "\n",
            "  - *Action*: Use the data to segment students into groups based on these factors and create tailored learning pathways. Regularly reassess and adjust these plans to ensure they remain effective.\n",
            "\n",
            "## 5. Teacher Training and Awareness\n",
            "\n",
            "- **Recommendation**: Train educators to recognize and address the impact of external factors (like lunch participation and gender dynamics) on student performance.\n",
            "\n",
            "  - *Action*: Provide professional development opportunities focusing on inclusive teaching practices, awareness of gender disparities in learning, and strategies for supporting students with varying levels\n"
          ]
        }
      ]
    },
    {
      "cell_type": "code",
      "source": [
        "# Combine the three previous responses (step 1–3)\n",
        "all_steps_summary = f\"\"\"\n",
        "Step 1 Result:\n",
        "{responseStep1}\n",
        "\n",
        "Step 2 Result:\n",
        "{responseStep2}\n",
        "\n",
        "Step 3 Result:\n",
        "{responseStep3}\n",
        "\"\"\"\n",
        "\n",
        "# Define prompt for final conclusion & suggestion\n",
        "conclusion_prompt = f\"\"\"\n",
        "Based on the following analysis steps:\n",
        "\n",
        "{all_steps_summary}\n",
        "\n",
        "Generate a concise final summary and actionable suggestions regarding student performance in the dataset.\n",
        "\n",
        "Instructions:\n",
        "- Focus on major conclusions drawn from the data\n",
        "- Highlight key problems or opportunities\n",
        "- Provide realistic and impactful recommendations\n",
        "\n",
        "Respond in English using markdown with:\n",
        "# Final Conclusion\n",
        "# Suggestions\n",
        "\"\"\"\n",
        "\n",
        "# Run it\n",
        "responseConclusion = output.invoke(conclusion_prompt)\n",
        "print(\"Granite Model Final Summary:\\n\")\n",
        "print(responseConclusion)\n"
      ],
      "metadata": {
        "colab": {
          "base_uri": "https://localhost:8080/"
        },
        "id": "yI7yTCCfBoKd",
        "outputId": "c967fce1-5d58-431c-c21c-c42ba5742dd9"
      },
      "execution_count": null,
      "outputs": [
        {
          "output_type": "stream",
          "name": "stdout",
          "text": [
            "Granite Model Final Summary:\n",
            "\n",
            "# Final Conclusion\n",
            "\n",
            "The dataset analysis indicates that lunch participation significantly influences academic performance, with students who partake in lunch exhibiting higher scores across math, reading, and writing. Gender also plays a role, with males generally scoring higher in math and females showing slight advantages in reading and writing. The interaction between gender and lunch participation reveals that the score gap is more pronounced among students who skip lunch, particularly affecting female students.\n",
            "\n",
            "# Suggestions\n",
            "\n",
            "## 1. **Promote Lunch Participation**\n",
            "- *Action*: Increase incentives for regular lunch attendance, such as offering more diverse and appealing meal options, improving the dining environment, and addressing logistical barriers like transportation or cost.\n",
            "\n",
            "## 2. **Targeted Support for Reading and Math**\n",
            "- *Male Students in Reading and Math*: Develop gender-specific interventions, such as male role models in classrooms, specialized after-school tutoring, or curriculum adjustments to better engage male learners in these subjects.\n",
            "- *Female Advantage in Reading and Writing*: Encourage continued support in these areas while addressing the math gap through targeted programs.\n",
            "\n",
            "## 3. **Integrated Learning Approach**\n",
            "- *Action*: Implement cross-curricular projects that link reading comprehension with math concepts and vice versa to leverage strengths and improve overall performance.\n",
            "\n",
            "## 4. **Personalized Learning Plans**\n",
            "- *Action*: Create individualized learning plans based on students' lunch participation, gender, and subject-specific needs, reassessing and adjusting them regularly for effectiveness.\n",
            "\n",
            "## 5. **Teacher Training and Awareness**\n",
            "- *Action*: Provide professional development opportunities focusing on inclusive teaching practices, recognizing gender disparities, and employing strategies to support students influenced by external factors like lunch participation. \n",
            "\n",
            "By focusing on these actionable recommendations, educational institutions can work towards mitigating disparities and enhancing overall student performance, particularly addressing the significant impact of lunch participation and understanding gender-specific needs.\n"
          ]
        }
      ]
    }
  ]
}